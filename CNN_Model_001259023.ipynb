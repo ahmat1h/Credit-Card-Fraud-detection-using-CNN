{
  "cells": [
    {
      "cell_type": "code",
      "execution_count": 1,
      "metadata": {
        "colab": {
          "base_uri": "https://localhost:8080/"
        },
        "id": "VHu7SiJ-TK3H",
        "outputId": "1ee7bddf-c1d4-4572-b84d-4ce528ec13ab"
      },
      "outputs": [
        {
          "name": "stdout",
          "output_type": "stream",
          "text": [
            "2.14.0\n"
          ]
        }
      ],
      "source": [
        "#importing libraries\n",
        "import tensorflow as tf\n",
        "import pandas as pd\n",
        "import numpy as np\n",
        "import sklearn.metrics\n",
        "import matplotlib.pyplot as plt\n",
        "from tensorflow import keras\n",
        "from tensorflow.keras import Sequential\n",
        "from tensorflow.keras.layers import Flatten, Dense, Dropout, BatchNormalization\n",
        "from tensorflow.keras.metrics import Precision, Recall, AUC\n",
        "from tensorflow.keras.layers import Conv1D, MaxPool1D\n",
        "from tensorflow.keras.optimizers import Adam\n",
        "from sklearn import metrics\n",
        "from sklearn.metrics import confusion_matrix\n",
        "from sklearn.model_selection import train_test_split\n",
        "from sklearn.preprocessing import StandardScaler\n",
        "print(tf.__version__)\n"
      ]
    },
    {
      "cell_type": "code",
      "execution_count": 2,
      "metadata": {
        "colab": {
          "base_uri": "https://localhost:8080/"
        },
        "id": "4OSVloxwUhFL",
        "outputId": "d0ed7c7b-1c7b-470e-c8f8-32b7c7552db4"
      },
      "outputs": [
        {
          "name": "stdout",
          "output_type": "stream",
          "text": [
            "Mounted at /content/drive\n"
          ]
        }
      ],
      "source": [
        "from google.colab import drive\n",
        "drive.mount('/content/drive') #mounting the Google Drive to the Colab virtual machine\n",
        "file_found = '/content/drive/MyDrive/fraudTrain.csv'  #specifies the file path to the csv file"
      ]
    },
    {
      "cell_type": "markdown",
      "metadata": {
        "id": "GxQcjbIca5V4"
      },
      "source": [
        "Importing Datasets"
      ]
    },
    {
      "cell_type": "code",
      "execution_count": 3,
      "metadata": {
        "id": "S0gQJlsPTTpF"
      },
      "outputs": [],
      "source": [
        "data = pd.read_csv(file_found)  #reads the csv file into a pandas DataFrame\n",
        "data = data.select_dtypes(exclude=['object']) #excludes strings takes only floats and intigers\n"
      ]
    },
    {
      "cell_type": "code",
      "execution_count": 4,
      "metadata": {
        "colab": {
          "base_uri": "https://localhost:8080/"
        },
        "id": "Qz-PWdO0TTwN",
        "outputId": "e732301e-9507-461d-b63a-30cd3112ae35"
      },
      "outputs": [
        {
          "data": {
            "text/plain": [
              "(1296675, 11)"
            ]
          },
          "execution_count": 4,
          "metadata": {},
          "output_type": "execute_result"
        }
      ],
      "source": [
        "data.shape  #gets the dimensions of the dataframe. There are 1296675 rows/transactions and 11 features"
      ]
    },
    {
      "cell_type": "code",
      "execution_count": 5,
      "metadata": {
        "colab": {
          "base_uri": "https://localhost:8080/",
          "height": 204
        },
        "id": "XUa8D7cwcn__",
        "outputId": "1bc046d2-1192-4b07-fcbf-01dcfd4dfe3b"
      },
      "outputs": [
        {
          "data": {
            "text/html": [
              "\n",
              "  <div id=\"df-c892b081-fc4d-440a-b685-05495625e666\" class=\"colab-df-container\">\n",
              "    <div>\n",
              "<style scoped>\n",
              "    .dataframe tbody tr th:only-of-type {\n",
              "        vertical-align: middle;\n",
              "    }\n",
              "\n",
              "    .dataframe tbody tr th {\n",
              "        vertical-align: top;\n",
              "    }\n",
              "\n",
              "    .dataframe thead th {\n",
              "        text-align: right;\n",
              "    }\n",
              "</style>\n",
              "<table border=\"1\" class=\"dataframe\">\n",
              "  <thead>\n",
              "    <tr style=\"text-align: right;\">\n",
              "      <th></th>\n",
              "      <th>Unnamed: 0</th>\n",
              "      <th>cc_num</th>\n",
              "      <th>amt</th>\n",
              "      <th>zip</th>\n",
              "      <th>lat</th>\n",
              "      <th>long</th>\n",
              "      <th>city_pop</th>\n",
              "      <th>unix_time</th>\n",
              "      <th>merch_lat</th>\n",
              "      <th>merch_long</th>\n",
              "      <th>is_fraud</th>\n",
              "    </tr>\n",
              "  </thead>\n",
              "  <tbody>\n",
              "    <tr>\n",
              "      <th>0</th>\n",
              "      <td>0</td>\n",
              "      <td>2703186189652095</td>\n",
              "      <td>4.97</td>\n",
              "      <td>28654</td>\n",
              "      <td>36.0788</td>\n",
              "      <td>-81.1781</td>\n",
              "      <td>3495</td>\n",
              "      <td>1325376018</td>\n",
              "      <td>36.011293</td>\n",
              "      <td>-82.048315</td>\n",
              "      <td>0</td>\n",
              "    </tr>\n",
              "    <tr>\n",
              "      <th>1</th>\n",
              "      <td>1</td>\n",
              "      <td>630423337322</td>\n",
              "      <td>107.23</td>\n",
              "      <td>99160</td>\n",
              "      <td>48.8878</td>\n",
              "      <td>-118.2105</td>\n",
              "      <td>149</td>\n",
              "      <td>1325376044</td>\n",
              "      <td>49.159047</td>\n",
              "      <td>-118.186462</td>\n",
              "      <td>0</td>\n",
              "    </tr>\n",
              "    <tr>\n",
              "      <th>2</th>\n",
              "      <td>2</td>\n",
              "      <td>38859492057661</td>\n",
              "      <td>220.11</td>\n",
              "      <td>83252</td>\n",
              "      <td>42.1808</td>\n",
              "      <td>-112.2620</td>\n",
              "      <td>4154</td>\n",
              "      <td>1325376051</td>\n",
              "      <td>43.150704</td>\n",
              "      <td>-112.154481</td>\n",
              "      <td>0</td>\n",
              "    </tr>\n",
              "    <tr>\n",
              "      <th>3</th>\n",
              "      <td>3</td>\n",
              "      <td>3534093764340240</td>\n",
              "      <td>45.00</td>\n",
              "      <td>59632</td>\n",
              "      <td>46.2306</td>\n",
              "      <td>-112.1138</td>\n",
              "      <td>1939</td>\n",
              "      <td>1325376076</td>\n",
              "      <td>47.034331</td>\n",
              "      <td>-112.561071</td>\n",
              "      <td>0</td>\n",
              "    </tr>\n",
              "    <tr>\n",
              "      <th>4</th>\n",
              "      <td>4</td>\n",
              "      <td>375534208663984</td>\n",
              "      <td>41.96</td>\n",
              "      <td>24433</td>\n",
              "      <td>38.4207</td>\n",
              "      <td>-79.4629</td>\n",
              "      <td>99</td>\n",
              "      <td>1325376186</td>\n",
              "      <td>38.674999</td>\n",
              "      <td>-78.632459</td>\n",
              "      <td>0</td>\n",
              "    </tr>\n",
              "  </tbody>\n",
              "</table>\n",
              "</div>\n",
              "    <div class=\"colab-df-buttons\">\n",
              "\n",
              "  <div class=\"colab-df-container\">\n",
              "    <button class=\"colab-df-convert\" onclick=\"convertToInteractive('df-c892b081-fc4d-440a-b685-05495625e666')\"\n",
              "            title=\"Convert this dataframe to an interactive table.\"\n",
              "            style=\"display:none;\">\n",
              "\n",
              "  <svg xmlns=\"http://www.w3.org/2000/svg\" height=\"24px\" viewBox=\"0 -960 960 960\">\n",
              "    <path d=\"M120-120v-720h720v720H120Zm60-500h600v-160H180v160Zm220 220h160v-160H400v160Zm0 220h160v-160H400v160ZM180-400h160v-160H180v160Zm440 0h160v-160H620v160ZM180-180h160v-160H180v160Zm440 0h160v-160H620v160Z\"/>\n",
              "  </svg>\n",
              "    </button>\n",
              "\n",
              "  <style>\n",
              "    .colab-df-container {\n",
              "      display:flex;\n",
              "      gap: 12px;\n",
              "    }\n",
              "\n",
              "    .colab-df-convert {\n",
              "      background-color: #E8F0FE;\n",
              "      border: none;\n",
              "      border-radius: 50%;\n",
              "      cursor: pointer;\n",
              "      display: none;\n",
              "      fill: #1967D2;\n",
              "      height: 32px;\n",
              "      padding: 0 0 0 0;\n",
              "      width: 32px;\n",
              "    }\n",
              "\n",
              "    .colab-df-convert:hover {\n",
              "      background-color: #E2EBFA;\n",
              "      box-shadow: 0px 1px 2px rgba(60, 64, 67, 0.3), 0px 1px 3px 1px rgba(60, 64, 67, 0.15);\n",
              "      fill: #174EA6;\n",
              "    }\n",
              "\n",
              "    .colab-df-buttons div {\n",
              "      margin-bottom: 4px;\n",
              "    }\n",
              "\n",
              "    [theme=dark] .colab-df-convert {\n",
              "      background-color: #3B4455;\n",
              "      fill: #D2E3FC;\n",
              "    }\n",
              "\n",
              "    [theme=dark] .colab-df-convert:hover {\n",
              "      background-color: #434B5C;\n",
              "      box-shadow: 0px 1px 3px 1px rgba(0, 0, 0, 0.15);\n",
              "      filter: drop-shadow(0px 1px 2px rgba(0, 0, 0, 0.3));\n",
              "      fill: #FFFFFF;\n",
              "    }\n",
              "  </style>\n",
              "\n",
              "    <script>\n",
              "      const buttonEl =\n",
              "        document.querySelector('#df-c892b081-fc4d-440a-b685-05495625e666 button.colab-df-convert');\n",
              "      buttonEl.style.display =\n",
              "        google.colab.kernel.accessAllowed ? 'block' : 'none';\n",
              "\n",
              "      async function convertToInteractive(key) {\n",
              "        const element = document.querySelector('#df-c892b081-fc4d-440a-b685-05495625e666');\n",
              "        const dataTable =\n",
              "          await google.colab.kernel.invokeFunction('convertToInteractive',\n",
              "                                                    [key], {});\n",
              "        if (!dataTable) return;\n",
              "\n",
              "        const docLinkHtml = 'Like what you see? Visit the ' +\n",
              "          '<a target=\"_blank\" href=https://colab.research.google.com/notebooks/data_table.ipynb>data table notebook</a>'\n",
              "          + ' to learn more about interactive tables.';\n",
              "        element.innerHTML = '';\n",
              "        dataTable['output_type'] = 'display_data';\n",
              "        await google.colab.output.renderOutput(dataTable, element);\n",
              "        const docLink = document.createElement('div');\n",
              "        docLink.innerHTML = docLinkHtml;\n",
              "        element.appendChild(docLink);\n",
              "      }\n",
              "    </script>\n",
              "  </div>\n",
              "\n",
              "\n",
              "<div id=\"df-1f8ef250-394d-414a-a977-a27af11278a5\">\n",
              "  <button class=\"colab-df-quickchart\" onclick=\"quickchart('df-1f8ef250-394d-414a-a977-a27af11278a5')\"\n",
              "            title=\"Suggest charts\"\n",
              "            style=\"display:none;\">\n",
              "\n",
              "<svg xmlns=\"http://www.w3.org/2000/svg\" height=\"24px\"viewBox=\"0 0 24 24\"\n",
              "     width=\"24px\">\n",
              "    <g>\n",
              "        <path d=\"M19 3H5c-1.1 0-2 .9-2 2v14c0 1.1.9 2 2 2h14c1.1 0 2-.9 2-2V5c0-1.1-.9-2-2-2zM9 17H7v-7h2v7zm4 0h-2V7h2v10zm4 0h-2v-4h2v4z\"/>\n",
              "    </g>\n",
              "</svg>\n",
              "  </button>\n",
              "\n",
              "<style>\n",
              "  .colab-df-quickchart {\n",
              "      --bg-color: #E8F0FE;\n",
              "      --fill-color: #1967D2;\n",
              "      --hover-bg-color: #E2EBFA;\n",
              "      --hover-fill-color: #174EA6;\n",
              "      --disabled-fill-color: #AAA;\n",
              "      --disabled-bg-color: #DDD;\n",
              "  }\n",
              "\n",
              "  [theme=dark] .colab-df-quickchart {\n",
              "      --bg-color: #3B4455;\n",
              "      --fill-color: #D2E3FC;\n",
              "      --hover-bg-color: #434B5C;\n",
              "      --hover-fill-color: #FFFFFF;\n",
              "      --disabled-bg-color: #3B4455;\n",
              "      --disabled-fill-color: #666;\n",
              "  }\n",
              "\n",
              "  .colab-df-quickchart {\n",
              "    background-color: var(--bg-color);\n",
              "    border: none;\n",
              "    border-radius: 50%;\n",
              "    cursor: pointer;\n",
              "    display: none;\n",
              "    fill: var(--fill-color);\n",
              "    height: 32px;\n",
              "    padding: 0;\n",
              "    width: 32px;\n",
              "  }\n",
              "\n",
              "  .colab-df-quickchart:hover {\n",
              "    background-color: var(--hover-bg-color);\n",
              "    box-shadow: 0 1px 2px rgba(60, 64, 67, 0.3), 0 1px 3px 1px rgba(60, 64, 67, 0.15);\n",
              "    fill: var(--button-hover-fill-color);\n",
              "  }\n",
              "\n",
              "  .colab-df-quickchart-complete:disabled,\n",
              "  .colab-df-quickchart-complete:disabled:hover {\n",
              "    background-color: var(--disabled-bg-color);\n",
              "    fill: var(--disabled-fill-color);\n",
              "    box-shadow: none;\n",
              "  }\n",
              "\n",
              "  .colab-df-spinner {\n",
              "    border: 2px solid var(--fill-color);\n",
              "    border-color: transparent;\n",
              "    border-bottom-color: var(--fill-color);\n",
              "    animation:\n",
              "      spin 1s steps(1) infinite;\n",
              "  }\n",
              "\n",
              "  @keyframes spin {\n",
              "    0% {\n",
              "      border-color: transparent;\n",
              "      border-bottom-color: var(--fill-color);\n",
              "      border-left-color: var(--fill-color);\n",
              "    }\n",
              "    20% {\n",
              "      border-color: transparent;\n",
              "      border-left-color: var(--fill-color);\n",
              "      border-top-color: var(--fill-color);\n",
              "    }\n",
              "    30% {\n",
              "      border-color: transparent;\n",
              "      border-left-color: var(--fill-color);\n",
              "      border-top-color: var(--fill-color);\n",
              "      border-right-color: var(--fill-color);\n",
              "    }\n",
              "    40% {\n",
              "      border-color: transparent;\n",
              "      border-right-color: var(--fill-color);\n",
              "      border-top-color: var(--fill-color);\n",
              "    }\n",
              "    60% {\n",
              "      border-color: transparent;\n",
              "      border-right-color: var(--fill-color);\n",
              "    }\n",
              "    80% {\n",
              "      border-color: transparent;\n",
              "      border-right-color: var(--fill-color);\n",
              "      border-bottom-color: var(--fill-color);\n",
              "    }\n",
              "    90% {\n",
              "      border-color: transparent;\n",
              "      border-bottom-color: var(--fill-color);\n",
              "    }\n",
              "  }\n",
              "</style>\n",
              "\n",
              "  <script>\n",
              "    async function quickchart(key) {\n",
              "      const quickchartButtonEl =\n",
              "        document.querySelector('#' + key + ' button');\n",
              "      quickchartButtonEl.disabled = true;  // To prevent multiple clicks.\n",
              "      quickchartButtonEl.classList.add('colab-df-spinner');\n",
              "      try {\n",
              "        const charts = await google.colab.kernel.invokeFunction(\n",
              "            'suggestCharts', [key], {});\n",
              "      } catch (error) {\n",
              "        console.error('Error during call to suggestCharts:', error);\n",
              "      }\n",
              "      quickchartButtonEl.classList.remove('colab-df-spinner');\n",
              "      quickchartButtonEl.classList.add('colab-df-quickchart-complete');\n",
              "    }\n",
              "    (() => {\n",
              "      let quickchartButtonEl =\n",
              "        document.querySelector('#df-1f8ef250-394d-414a-a977-a27af11278a5 button');\n",
              "      quickchartButtonEl.style.display =\n",
              "        google.colab.kernel.accessAllowed ? 'block' : 'none';\n",
              "    })();\n",
              "  </script>\n",
              "</div>\n",
              "    </div>\n",
              "  </div>\n"
            ],
            "text/plain": [
              "   Unnamed: 0            cc_num     amt    zip      lat      long  city_pop  \\\n",
              "0           0  2703186189652095    4.97  28654  36.0788  -81.1781      3495   \n",
              "1           1      630423337322  107.23  99160  48.8878 -118.2105       149   \n",
              "2           2    38859492057661  220.11  83252  42.1808 -112.2620      4154   \n",
              "3           3  3534093764340240   45.00  59632  46.2306 -112.1138      1939   \n",
              "4           4   375534208663984   41.96  24433  38.4207  -79.4629        99   \n",
              "\n",
              "    unix_time  merch_lat  merch_long  is_fraud  \n",
              "0  1325376018  36.011293  -82.048315         0  \n",
              "1  1325376044  49.159047 -118.186462         0  \n",
              "2  1325376051  43.150704 -112.154481         0  \n",
              "3  1325376076  47.034331 -112.561071         0  \n",
              "4  1325376186  38.674999  -78.632459         0  "
            ]
          },
          "execution_count": 5,
          "metadata": {},
          "output_type": "execute_result"
        }
      ],
      "source": [
        "data.head() #used to get the class/column/feature that does the binary classification (if its fraud 1->fraud; 0->non_fraud)"
      ]
    },
    {
      "cell_type": "code",
      "execution_count": 6,
      "metadata": {
        "colab": {
          "base_uri": "https://localhost:8080/"
        },
        "id": "1-KIiswTTT2Z",
        "outputId": "3f80e8f3-91e5-489b-eed3-8d03f62cdb81"
      },
      "outputs": [
        {
          "data": {
            "text/plain": [
              "0    1289169\n",
              "1       7506\n",
              "Name: is_fraud, dtype: int64"
            ]
          },
          "execution_count": 6,
          "metadata": {},
          "output_type": "execute_result"
        }
      ],
      "source": [
        "data['is_fraud'].value_counts() #counts the occurrences of is_fraud feature"
      ]
    },
    {
      "cell_type": "markdown",
      "metadata": {
        "id": "VUddfUQkTfpk"
      },
      "source": [
        "Balance dataset"
      ]
    },
    {
      "cell_type": "code",
      "execution_count": 7,
      "metadata": {
        "colab": {
          "base_uri": "https://localhost:8080/"
        },
        "id": "vZW1fR-0AyQw",
        "outputId": "a9eccb06-851d-4aca-da49-49bff5be5b84"
      },
      "outputs": [
        {
          "name": "stdout",
          "output_type": "stream",
          "text": [
            "<class 'pandas.core.frame.DataFrame'>\n",
            "RangeIndex: 1296675 entries, 0 to 1296674\n",
            "Data columns (total 11 columns):\n",
            " #   Column      Non-Null Count    Dtype  \n",
            "---  ------      --------------    -----  \n",
            " 0   Unnamed: 0  1296675 non-null  int64  \n",
            " 1   cc_num      1296675 non-null  int64  \n",
            " 2   amt         1296675 non-null  float64\n",
            " 3   zip         1296675 non-null  int64  \n",
            " 4   lat         1296675 non-null  float64\n",
            " 5   long        1296675 non-null  float64\n",
            " 6   city_pop    1296675 non-null  int64  \n",
            " 7   unix_time   1296675 non-null  int64  \n",
            " 8   merch_lat   1296675 non-null  float64\n",
            " 9   merch_long  1296675 non-null  float64\n",
            " 10  is_fraud    1296675 non-null  int64  \n",
            "dtypes: float64(5), int64(6)\n",
            "memory usage: 108.8 MB\n"
          ]
        }
      ],
      "source": [
        "data.info() #gets the data type of each column/feature"
      ]
    },
    {
      "cell_type": "code",
      "execution_count": 8,
      "metadata": {
        "id": "lmZShQq-TfCh"
      },
      "outputs": [],
      "source": [
        "non_fraud = data[data['is_fraud']==0] #contains the non-fraudlent data\n",
        "fraud = data[data['is_fraud']==1] #contains the fraudlent data"
      ]
    },
    {
      "cell_type": "code",
      "execution_count": 9,
      "metadata": {
        "colab": {
          "base_uri": "https://localhost:8080/"
        },
        "id": "RjjqN5cRTT5k",
        "outputId": "dbb48dab-8512-4724-f10e-2646174f256b"
      },
      "outputs": [
        {
          "data": {
            "text/plain": [
              "((1289169, 11), (7506, 11))"
            ]
          },
          "execution_count": 9,
          "metadata": {},
          "output_type": "execute_result"
        }
      ],
      "source": [
        "non_fraud.shape, fraud.shape  #gets the dimensions of each dataframe"
      ]
    },
    {
      "cell_type": "code",
      "execution_count": 10,
      "metadata": {
        "colab": {
          "base_uri": "https://localhost:8080/"
        },
        "id": "1nhRNFjMTT9a",
        "outputId": "1b2446a9-3b61-45c7-d5f5-9da01e7ad8b6"
      },
      "outputs": [
        {
          "data": {
            "text/plain": [
              "(7506, 11)"
            ]
          },
          "execution_count": 10,
          "metadata": {},
          "output_type": "execute_result"
        }
      ],
      "source": [
        "non_fraud = non_fraud.sample(fraud.shape[0])  #balancing the dataset by matching the non-fraudlent instances with the fraudlent\n",
        "non_fraud.shape"
      ]
    },
    {
      "cell_type": "code",
      "execution_count": 11,
      "metadata": {
        "colab": {
          "base_uri": "https://localhost:8080/",
          "height": 473
        },
        "id": "Evx5wrExTUAf",
        "outputId": "fd59bf80-5357-4f18-bc60-a0bd57a65fdf"
      },
      "outputs": [
        {
          "name": "stderr",
          "output_type": "stream",
          "text": [
            "<ipython-input-11-1a7d54f0052f>:1: FutureWarning: The frame.append method is deprecated and will be removed from pandas in a future version. Use pandas.concat instead.\n",
            "  data = fraud.append(non_fraud, ignore_index=True)   #combines both dataframes into a single one\n"
          ]
        },
        {
          "data": {
            "text/html": [
              "\n",
              "  <div id=\"df-0ca9e0e3-4c58-49ae-a6e9-ee1922afb433\" class=\"colab-df-container\">\n",
              "    <div>\n",
              "<style scoped>\n",
              "    .dataframe tbody tr th:only-of-type {\n",
              "        vertical-align: middle;\n",
              "    }\n",
              "\n",
              "    .dataframe tbody tr th {\n",
              "        vertical-align: top;\n",
              "    }\n",
              "\n",
              "    .dataframe thead th {\n",
              "        text-align: right;\n",
              "    }\n",
              "</style>\n",
              "<table border=\"1\" class=\"dataframe\">\n",
              "  <thead>\n",
              "    <tr style=\"text-align: right;\">\n",
              "      <th></th>\n",
              "      <th>Unnamed: 0</th>\n",
              "      <th>cc_num</th>\n",
              "      <th>amt</th>\n",
              "      <th>zip</th>\n",
              "      <th>lat</th>\n",
              "      <th>long</th>\n",
              "      <th>city_pop</th>\n",
              "      <th>unix_time</th>\n",
              "      <th>merch_lat</th>\n",
              "      <th>merch_long</th>\n",
              "      <th>is_fraud</th>\n",
              "    </tr>\n",
              "  </thead>\n",
              "  <tbody>\n",
              "    <tr>\n",
              "      <th>0</th>\n",
              "      <td>2449</td>\n",
              "      <td>4613314721966</td>\n",
              "      <td>281.06</td>\n",
              "      <td>28611</td>\n",
              "      <td>35.9946</td>\n",
              "      <td>-81.7266</td>\n",
              "      <td>885</td>\n",
              "      <td>1325466397</td>\n",
              "      <td>36.430124</td>\n",
              "      <td>-81.179483</td>\n",
              "      <td>1</td>\n",
              "    </tr>\n",
              "    <tr>\n",
              "      <th>1</th>\n",
              "      <td>2472</td>\n",
              "      <td>340187018810220</td>\n",
              "      <td>11.52</td>\n",
              "      <td>78208</td>\n",
              "      <td>29.4400</td>\n",
              "      <td>-98.4590</td>\n",
              "      <td>1595797</td>\n",
              "      <td>1325468849</td>\n",
              "      <td>29.819364</td>\n",
              "      <td>-99.142791</td>\n",
              "      <td>1</td>\n",
              "    </tr>\n",
              "    <tr>\n",
              "      <th>2</th>\n",
              "      <td>2523</td>\n",
              "      <td>340187018810220</td>\n",
              "      <td>276.31</td>\n",
              "      <td>78208</td>\n",
              "      <td>29.4400</td>\n",
              "      <td>-98.4590</td>\n",
              "      <td>1595797</td>\n",
              "      <td>1325473523</td>\n",
              "      <td>29.273085</td>\n",
              "      <td>-98.836360</td>\n",
              "      <td>1</td>\n",
              "    </tr>\n",
              "    <tr>\n",
              "      <th>3</th>\n",
              "      <td>2546</td>\n",
              "      <td>4613314721966</td>\n",
              "      <td>7.03</td>\n",
              "      <td>28611</td>\n",
              "      <td>35.9946</td>\n",
              "      <td>-81.7266</td>\n",
              "      <td>885</td>\n",
              "      <td>1325475483</td>\n",
              "      <td>35.909292</td>\n",
              "      <td>-82.091010</td>\n",
              "      <td>1</td>\n",
              "    </tr>\n",
              "    <tr>\n",
              "      <th>4</th>\n",
              "      <td>2553</td>\n",
              "      <td>340187018810220</td>\n",
              "      <td>275.73</td>\n",
              "      <td>78208</td>\n",
              "      <td>29.4400</td>\n",
              "      <td>-98.4590</td>\n",
              "      <td>1595797</td>\n",
              "      <td>1325476547</td>\n",
              "      <td>29.786426</td>\n",
              "      <td>-98.683410</td>\n",
              "      <td>1</td>\n",
              "    </tr>\n",
              "    <tr>\n",
              "      <th>...</th>\n",
              "      <td>...</td>\n",
              "      <td>...</td>\n",
              "      <td>...</td>\n",
              "      <td>...</td>\n",
              "      <td>...</td>\n",
              "      <td>...</td>\n",
              "      <td>...</td>\n",
              "      <td>...</td>\n",
              "      <td>...</td>\n",
              "      <td>...</td>\n",
              "      <td>...</td>\n",
              "    </tr>\n",
              "    <tr>\n",
              "      <th>15007</th>\n",
              "      <td>843523</td>\n",
              "      <td>342319985983023</td>\n",
              "      <td>59.79</td>\n",
              "      <td>12455</td>\n",
              "      <td>42.1852</td>\n",
              "      <td>-74.6178</td>\n",
              "      <td>1988</td>\n",
              "      <td>1355484753</td>\n",
              "      <td>41.869837</td>\n",
              "      <td>-75.148768</td>\n",
              "      <td>0</td>\n",
              "    </tr>\n",
              "    <tr>\n",
              "      <th>15008</th>\n",
              "      <td>991676</td>\n",
              "      <td>501899453424</td>\n",
              "      <td>29.39</td>\n",
              "      <td>35903</td>\n",
              "      <td>33.9845</td>\n",
              "      <td>-85.9077</td>\n",
              "      <td>67082</td>\n",
              "      <td>1360401480</td>\n",
              "      <td>33.329414</td>\n",
              "      <td>-85.201724</td>\n",
              "      <td>0</td>\n",
              "    </tr>\n",
              "    <tr>\n",
              "      <th>15009</th>\n",
              "      <td>522378</td>\n",
              "      <td>349612764943496</td>\n",
              "      <td>74.39</td>\n",
              "      <td>40914</td>\n",
              "      <td>37.1046</td>\n",
              "      <td>-83.5706</td>\n",
              "      <td>467</td>\n",
              "      <td>1344815451</td>\n",
              "      <td>37.324150</td>\n",
              "      <td>-83.913401</td>\n",
              "      <td>0</td>\n",
              "    </tr>\n",
              "    <tr>\n",
              "      <th>15010</th>\n",
              "      <td>32941</td>\n",
              "      <td>4378993458389626</td>\n",
              "      <td>4.79</td>\n",
              "      <td>3818</td>\n",
              "      <td>43.9742</td>\n",
              "      <td>-71.1503</td>\n",
              "      <td>3807</td>\n",
              "      <td>1327077620</td>\n",
              "      <td>43.045987</td>\n",
              "      <td>-71.481381</td>\n",
              "      <td>0</td>\n",
              "    </tr>\n",
              "    <tr>\n",
              "      <th>15011</th>\n",
              "      <td>534168</td>\n",
              "      <td>6011860238257910</td>\n",
              "      <td>16.11</td>\n",
              "      <td>73754</td>\n",
              "      <td>36.3850</td>\n",
              "      <td>-98.0727</td>\n",
              "      <td>1078</td>\n",
              "      <td>1345242197</td>\n",
              "      <td>35.785851</td>\n",
              "      <td>-98.946173</td>\n",
              "      <td>0</td>\n",
              "    </tr>\n",
              "  </tbody>\n",
              "</table>\n",
              "<p>15012 rows × 11 columns</p>\n",
              "</div>\n",
              "    <div class=\"colab-df-buttons\">\n",
              "\n",
              "  <div class=\"colab-df-container\">\n",
              "    <button class=\"colab-df-convert\" onclick=\"convertToInteractive('df-0ca9e0e3-4c58-49ae-a6e9-ee1922afb433')\"\n",
              "            title=\"Convert this dataframe to an interactive table.\"\n",
              "            style=\"display:none;\">\n",
              "\n",
              "  <svg xmlns=\"http://www.w3.org/2000/svg\" height=\"24px\" viewBox=\"0 -960 960 960\">\n",
              "    <path d=\"M120-120v-720h720v720H120Zm60-500h600v-160H180v160Zm220 220h160v-160H400v160Zm0 220h160v-160H400v160ZM180-400h160v-160H180v160Zm440 0h160v-160H620v160ZM180-180h160v-160H180v160Zm440 0h160v-160H620v160Z\"/>\n",
              "  </svg>\n",
              "    </button>\n",
              "\n",
              "  <style>\n",
              "    .colab-df-container {\n",
              "      display:flex;\n",
              "      gap: 12px;\n",
              "    }\n",
              "\n",
              "    .colab-df-convert {\n",
              "      background-color: #E8F0FE;\n",
              "      border: none;\n",
              "      border-radius: 50%;\n",
              "      cursor: pointer;\n",
              "      display: none;\n",
              "      fill: #1967D2;\n",
              "      height: 32px;\n",
              "      padding: 0 0 0 0;\n",
              "      width: 32px;\n",
              "    }\n",
              "\n",
              "    .colab-df-convert:hover {\n",
              "      background-color: #E2EBFA;\n",
              "      box-shadow: 0px 1px 2px rgba(60, 64, 67, 0.3), 0px 1px 3px 1px rgba(60, 64, 67, 0.15);\n",
              "      fill: #174EA6;\n",
              "    }\n",
              "\n",
              "    .colab-df-buttons div {\n",
              "      margin-bottom: 4px;\n",
              "    }\n",
              "\n",
              "    [theme=dark] .colab-df-convert {\n",
              "      background-color: #3B4455;\n",
              "      fill: #D2E3FC;\n",
              "    }\n",
              "\n",
              "    [theme=dark] .colab-df-convert:hover {\n",
              "      background-color: #434B5C;\n",
              "      box-shadow: 0px 1px 3px 1px rgba(0, 0, 0, 0.15);\n",
              "      filter: drop-shadow(0px 1px 2px rgba(0, 0, 0, 0.3));\n",
              "      fill: #FFFFFF;\n",
              "    }\n",
              "  </style>\n",
              "\n",
              "    <script>\n",
              "      const buttonEl =\n",
              "        document.querySelector('#df-0ca9e0e3-4c58-49ae-a6e9-ee1922afb433 button.colab-df-convert');\n",
              "      buttonEl.style.display =\n",
              "        google.colab.kernel.accessAllowed ? 'block' : 'none';\n",
              "\n",
              "      async function convertToInteractive(key) {\n",
              "        const element = document.querySelector('#df-0ca9e0e3-4c58-49ae-a6e9-ee1922afb433');\n",
              "        const dataTable =\n",
              "          await google.colab.kernel.invokeFunction('convertToInteractive',\n",
              "                                                    [key], {});\n",
              "        if (!dataTable) return;\n",
              "\n",
              "        const docLinkHtml = 'Like what you see? Visit the ' +\n",
              "          '<a target=\"_blank\" href=https://colab.research.google.com/notebooks/data_table.ipynb>data table notebook</a>'\n",
              "          + ' to learn more about interactive tables.';\n",
              "        element.innerHTML = '';\n",
              "        dataTable['output_type'] = 'display_data';\n",
              "        await google.colab.output.renderOutput(dataTable, element);\n",
              "        const docLink = document.createElement('div');\n",
              "        docLink.innerHTML = docLinkHtml;\n",
              "        element.appendChild(docLink);\n",
              "      }\n",
              "    </script>\n",
              "  </div>\n",
              "\n",
              "\n",
              "<div id=\"df-3ab798fb-a017-452c-a6a1-f7e554640dbe\">\n",
              "  <button class=\"colab-df-quickchart\" onclick=\"quickchart('df-3ab798fb-a017-452c-a6a1-f7e554640dbe')\"\n",
              "            title=\"Suggest charts\"\n",
              "            style=\"display:none;\">\n",
              "\n",
              "<svg xmlns=\"http://www.w3.org/2000/svg\" height=\"24px\"viewBox=\"0 0 24 24\"\n",
              "     width=\"24px\">\n",
              "    <g>\n",
              "        <path d=\"M19 3H5c-1.1 0-2 .9-2 2v14c0 1.1.9 2 2 2h14c1.1 0 2-.9 2-2V5c0-1.1-.9-2-2-2zM9 17H7v-7h2v7zm4 0h-2V7h2v10zm4 0h-2v-4h2v4z\"/>\n",
              "    </g>\n",
              "</svg>\n",
              "  </button>\n",
              "\n",
              "<style>\n",
              "  .colab-df-quickchart {\n",
              "      --bg-color: #E8F0FE;\n",
              "      --fill-color: #1967D2;\n",
              "      --hover-bg-color: #E2EBFA;\n",
              "      --hover-fill-color: #174EA6;\n",
              "      --disabled-fill-color: #AAA;\n",
              "      --disabled-bg-color: #DDD;\n",
              "  }\n",
              "\n",
              "  [theme=dark] .colab-df-quickchart {\n",
              "      --bg-color: #3B4455;\n",
              "      --fill-color: #D2E3FC;\n",
              "      --hover-bg-color: #434B5C;\n",
              "      --hover-fill-color: #FFFFFF;\n",
              "      --disabled-bg-color: #3B4455;\n",
              "      --disabled-fill-color: #666;\n",
              "  }\n",
              "\n",
              "  .colab-df-quickchart {\n",
              "    background-color: var(--bg-color);\n",
              "    border: none;\n",
              "    border-radius: 50%;\n",
              "    cursor: pointer;\n",
              "    display: none;\n",
              "    fill: var(--fill-color);\n",
              "    height: 32px;\n",
              "    padding: 0;\n",
              "    width: 32px;\n",
              "  }\n",
              "\n",
              "  .colab-df-quickchart:hover {\n",
              "    background-color: var(--hover-bg-color);\n",
              "    box-shadow: 0 1px 2px rgba(60, 64, 67, 0.3), 0 1px 3px 1px rgba(60, 64, 67, 0.15);\n",
              "    fill: var(--button-hover-fill-color);\n",
              "  }\n",
              "\n",
              "  .colab-df-quickchart-complete:disabled,\n",
              "  .colab-df-quickchart-complete:disabled:hover {\n",
              "    background-color: var(--disabled-bg-color);\n",
              "    fill: var(--disabled-fill-color);\n",
              "    box-shadow: none;\n",
              "  }\n",
              "\n",
              "  .colab-df-spinner {\n",
              "    border: 2px solid var(--fill-color);\n",
              "    border-color: transparent;\n",
              "    border-bottom-color: var(--fill-color);\n",
              "    animation:\n",
              "      spin 1s steps(1) infinite;\n",
              "  }\n",
              "\n",
              "  @keyframes spin {\n",
              "    0% {\n",
              "      border-color: transparent;\n",
              "      border-bottom-color: var(--fill-color);\n",
              "      border-left-color: var(--fill-color);\n",
              "    }\n",
              "    20% {\n",
              "      border-color: transparent;\n",
              "      border-left-color: var(--fill-color);\n",
              "      border-top-color: var(--fill-color);\n",
              "    }\n",
              "    30% {\n",
              "      border-color: transparent;\n",
              "      border-left-color: var(--fill-color);\n",
              "      border-top-color: var(--fill-color);\n",
              "      border-right-color: var(--fill-color);\n",
              "    }\n",
              "    40% {\n",
              "      border-color: transparent;\n",
              "      border-right-color: var(--fill-color);\n",
              "      border-top-color: var(--fill-color);\n",
              "    }\n",
              "    60% {\n",
              "      border-color: transparent;\n",
              "      border-right-color: var(--fill-color);\n",
              "    }\n",
              "    80% {\n",
              "      border-color: transparent;\n",
              "      border-right-color: var(--fill-color);\n",
              "      border-bottom-color: var(--fill-color);\n",
              "    }\n",
              "    90% {\n",
              "      border-color: transparent;\n",
              "      border-bottom-color: var(--fill-color);\n",
              "    }\n",
              "  }\n",
              "</style>\n",
              "\n",
              "  <script>\n",
              "    async function quickchart(key) {\n",
              "      const quickchartButtonEl =\n",
              "        document.querySelector('#' + key + ' button');\n",
              "      quickchartButtonEl.disabled = true;  // To prevent multiple clicks.\n",
              "      quickchartButtonEl.classList.add('colab-df-spinner');\n",
              "      try {\n",
              "        const charts = await google.colab.kernel.invokeFunction(\n",
              "            'suggestCharts', [key], {});\n",
              "      } catch (error) {\n",
              "        console.error('Error during call to suggestCharts:', error);\n",
              "      }\n",
              "      quickchartButtonEl.classList.remove('colab-df-spinner');\n",
              "      quickchartButtonEl.classList.add('colab-df-quickchart-complete');\n",
              "    }\n",
              "    (() => {\n",
              "      let quickchartButtonEl =\n",
              "        document.querySelector('#df-3ab798fb-a017-452c-a6a1-f7e554640dbe button');\n",
              "      quickchartButtonEl.style.display =\n",
              "        google.colab.kernel.accessAllowed ? 'block' : 'none';\n",
              "    })();\n",
              "  </script>\n",
              "</div>\n",
              "    </div>\n",
              "  </div>\n"
            ],
            "text/plain": [
              "       Unnamed: 0            cc_num     amt    zip      lat     long  \\\n",
              "0            2449     4613314721966  281.06  28611  35.9946 -81.7266   \n",
              "1            2472   340187018810220   11.52  78208  29.4400 -98.4590   \n",
              "2            2523   340187018810220  276.31  78208  29.4400 -98.4590   \n",
              "3            2546     4613314721966    7.03  28611  35.9946 -81.7266   \n",
              "4            2553   340187018810220  275.73  78208  29.4400 -98.4590   \n",
              "...           ...               ...     ...    ...      ...      ...   \n",
              "15007      843523   342319985983023   59.79  12455  42.1852 -74.6178   \n",
              "15008      991676      501899453424   29.39  35903  33.9845 -85.9077   \n",
              "15009      522378   349612764943496   74.39  40914  37.1046 -83.5706   \n",
              "15010       32941  4378993458389626    4.79   3818  43.9742 -71.1503   \n",
              "15011      534168  6011860238257910   16.11  73754  36.3850 -98.0727   \n",
              "\n",
              "       city_pop   unix_time  merch_lat  merch_long  is_fraud  \n",
              "0           885  1325466397  36.430124  -81.179483         1  \n",
              "1       1595797  1325468849  29.819364  -99.142791         1  \n",
              "2       1595797  1325473523  29.273085  -98.836360         1  \n",
              "3           885  1325475483  35.909292  -82.091010         1  \n",
              "4       1595797  1325476547  29.786426  -98.683410         1  \n",
              "...         ...         ...        ...         ...       ...  \n",
              "15007      1988  1355484753  41.869837  -75.148768         0  \n",
              "15008     67082  1360401480  33.329414  -85.201724         0  \n",
              "15009       467  1344815451  37.324150  -83.913401         0  \n",
              "15010      3807  1327077620  43.045987  -71.481381         0  \n",
              "15011      1078  1345242197  35.785851  -98.946173         0  \n",
              "\n",
              "[15012 rows x 11 columns]"
            ]
          },
          "execution_count": 11,
          "metadata": {},
          "output_type": "execute_result"
        }
      ],
      "source": [
        "data = fraud.append(non_fraud, ignore_index=True)   #combines both dataframes into a single one\n",
        "data"
      ]
    },
    {
      "cell_type": "code",
      "execution_count": 12,
      "metadata": {
        "colab": {
          "base_uri": "https://localhost:8080/"
        },
        "id": "7NuuJXjDTUDe",
        "outputId": "ca1d4e8a-e0bb-49c8-8030-92b437b2968f"
      },
      "outputs": [
        {
          "data": {
            "text/plain": [
              "1    7506\n",
              "0    7506\n",
              "Name: is_fraud, dtype: int64"
            ]
          },
          "execution_count": 12,
          "metadata": {},
          "output_type": "execute_result"
        }
      ],
      "source": [
        "data['is_fraud'].value_counts()   #checking if the dataset is balanced"
      ]
    },
    {
      "cell_type": "code",
      "execution_count": 13,
      "metadata": {
        "id": "vtjY0ZBaTUGN"
      },
      "outputs": [],
      "source": [
        "X = data.drop('is_fraud', axis = 1)   #contains all the features except the target(is_fraud)\n",
        "y = data['is_fraud']  #contains the target variable"
      ]
    },
    {
      "cell_type": "code",
      "execution_count": 14,
      "metadata": {
        "id": "H6SsFHU-TtuF"
      },
      "outputs": [],
      "source": [
        "#spliting the list into train and test using train_test_split imported by the sklearn library\n",
        "X_train, X_test, y_train, y_test = train_test_split(X, y, test_size = 0.2, random_state = 0, stratify = y)  "
      ]
    },
    {
      "cell_type": "code",
      "execution_count": 15,
      "metadata": {
        "colab": {
          "base_uri": "https://localhost:8080/"
        },
        "id": "quaTpY8XTtrC",
        "outputId": "04956be7-5e78-4674-8b16-d21a71fbbbd9"
      },
      "outputs": [
        {
          "data": {
            "text/plain": [
              "((12009, 10), (3003, 10), (12009,), (3003,))"
            ]
          },
          "execution_count": 15,
          "metadata": {},
          "output_type": "execute_result"
        }
      ],
      "source": [
        "#getting the shape of each train and test set\n",
        "X_train.shape, X_test.shape, y_train.shape, y_test.shape"
      ]
    },
    {
      "cell_type": "code",
      "execution_count": 16,
      "metadata": {
        "id": "V2A6a68hTtnZ"
      },
      "outputs": [],
      "source": [
        "#applying scaling to the training and testing sets to bring all the features in a similar scale\n",
        "scaler = StandardScaler()\n",
        "X_train = scaler.fit_transform(X_train)\n",
        "X_test = scaler.transform(X_test)"
      ]
    },
    {
      "cell_type": "code",
      "execution_count": 17,
      "metadata": {
        "id": "o1jXoaISTtj7"
      },
      "outputs": [],
      "source": [
        "#Comverting from Pandas to NumPy as TensorFlow expect NumPy arrays as we will need to use NumPy operations later\n",
        "y_train = y_train.to_numpy()\n",
        "y_test = y_test.to_numpy()"
      ]
    },
    {
      "cell_type": "code",
      "execution_count": 18,
      "metadata": {
        "id": "y0DjlSfuKNMb"
      },
      "outputs": [],
      "source": [
        "#creating the binary prediction\n",
        "def y_pred_for_DLModels(CNN, X_test): #takes the model and X_test as inputs\n",
        "    y_pred = CNN.predict(X_test)  # uses .predict() to obtain the predicted probabilities for each input\n",
        "    y_pred_binary = (y_pred > 0.5).flatten()  #applying a threshold of 0.5 to the predicted probabilities, if pred>0,5 = positive, pred<0,5 = negative\n",
        "    return y_pred_binary  #returns the prediction"
      ]
    },
    {
      "cell_type": "code",
      "execution_count": 19,
      "metadata": {
        "id": "iN8I4dA8TtbK"
      },
      "outputs": [],
      "source": [
        "#reshaping the sets as CNN takes 3 dimensional inputs\n",
        "X_train_reshaped = X_train.reshape(X_train.shape[0], X_train.shape[1], 1)\n",
        "X_test_reshaped = X_test.reshape(X_test.shape[0], X_test.shape[1], 1)"
      ]
    },
    {
      "cell_type": "code",
      "execution_count": 20,
      "metadata": {
        "colab": {
          "base_uri": "https://localhost:8080/"
        },
        "id": "dninC6eQTtX9",
        "outputId": "f3e13972-6a99-4941-b5ab-40b275d412dc"
      },
      "outputs": [
        {
          "data": {
            "text/plain": [
              "((12009, 10, 1), (3003, 10, 1))"
            ]
          },
          "execution_count": 20,
          "metadata": {},
          "output_type": "execute_result"
        }
      ],
      "source": [
        "#checking the 3 dimensional X_train and X_test shape\n",
        "X_train_reshaped.shape, X_test_reshaped.shape"
      ]
    },
    {
      "cell_type": "markdown",
      "metadata": {
        "id": "_EJ6Ro0OUAAt"
      },
      "source": [
        "Build CNN"
      ]
    },
    {
      "cell_type": "code",
      "execution_count": 21,
      "metadata": {
        "id": "QIeTZUzsUCl-"
      },
      "outputs": [],
      "source": [
        "#creating the CNN architecture\n",
        "epochs = 70 #the number of times the model will iterate through the training dataset during training\n",
        "CNN = Sequential()  #creating a sequencial keras model,linear stack of layers\n",
        "CNN.add(Conv1D(32, 2, activation='relu', input_shape = X_train_reshaped[0].shape))  #1D convonutional layer with 32 filter\n",
        "CNN.add(BatchNormalization()) #accelerates and stabilazes the training by normalizing the inputs of a layer\n",
        "CNN.add(Dropout(0.2)) #using dropout to avoid overfitting, ignoring 20% of randomly selected neurons\n",
        "\n",
        "CNN.add(Conv1D(64, 2, activation='relu')) #convonutional layer with 64 filters\n",
        "CNN.add(BatchNormalization())\n",
        "CNN.add(Dropout(0.8)) #same proccess but now avoiding 80% of randomly selected neurons\n",
        "\n",
        "CNN.add(Flatten())  #flattern layer to flattern the output of convonutional layer from 3D into 1D array before going to the Dense layers\n",
        "CNN.add(Dense(64, activation='relu')) #dense layer with 64 neurons, helps to capture higher-level patterns\n",
        "CNN.add(Dropout(0.8)) #another dropout layer that ignores again 80% of random neurons\n",
        "\n",
        "CNN.add(Dense(1, activation='sigmoid')) #dense layer that has a single neuron (gives a single output 0 or 1)"
      ]
    },
    {
      "cell_type": "code",
      "execution_count": 22,
      "metadata": {
        "colab": {
          "base_uri": "https://localhost:8080/"
        },
        "id": "aGyWYBo2UCCc",
        "outputId": "8ddfe32c-a903-4553-d607-65611c39b9c9"
      },
      "outputs": [
        {
          "name": "stdout",
          "output_type": "stream",
          "text": [
            "Model: \"sequential\"\n",
            "_________________________________________________________________\n",
            " Layer (type)                Output Shape              Param #   \n",
            "=================================================================\n",
            " conv1d (Conv1D)             (None, 9, 32)             96        \n",
            "                                                                 \n",
            " batch_normalization (Batch  (None, 9, 32)             128       \n",
            " Normalization)                                                  \n",
            "                                                                 \n",
            " dropout (Dropout)           (None, 9, 32)             0         \n",
            "                                                                 \n",
            " conv1d_1 (Conv1D)           (None, 8, 64)             4160      \n",
            "                                                                 \n",
            " batch_normalization_1 (Bat  (None, 8, 64)             256       \n",
            " chNormalization)                                                \n",
            "                                                                 \n",
            " dropout_1 (Dropout)         (None, 8, 64)             0         \n",
            "                                                                 \n",
            " flatten (Flatten)           (None, 512)               0         \n",
            "                                                                 \n",
            " dense (Dense)               (None, 64)                32832     \n",
            "                                                                 \n",
            " dropout_2 (Dropout)         (None, 64)                0         \n",
            "                                                                 \n",
            " dense_1 (Dense)             (None, 1)                 65        \n",
            "                                                                 \n",
            "=================================================================\n",
            "Total params: 37537 (146.63 KB)\n",
            "Trainable params: 37345 (145.88 KB)\n",
            "Non-trainable params: 192 (768.00 Byte)\n",
            "_________________________________________________________________\n"
          ]
        }
      ],
      "source": [
        "CNN.summary()"
      ]
    },
    {
      "cell_type": "code",
      "execution_count": 23,
      "metadata": {
        "colab": {
          "base_uri": "https://localhost:8080/"
        },
        "id": "dpLcH96hUCAF",
        "outputId": "cd4aac40-9b0c-4350-8232-35b6c513982e"
      },
      "outputs": [
        {
          "name": "stderr",
          "output_type": "stream",
          "text": [
            "WARNING:absl:`lr` is deprecated in Keras optimizer, please use `learning_rate` or use the legacy optimizer, e.g.,tf.keras.optimizers.legacy.Adam.\n"
          ]
        }
      ],
      "source": [
        "#compiling the model.Setting up the optimizer, loss and metricses\n",
        "CNN.compile(optimizer=Adam(lr=0.0001), loss = 'binary_crossentropy', metrics=['accuracy',Precision(), Recall(), AUC()])"
      ]
    },
    {
      "cell_type": "code",
      "execution_count": 24,
      "metadata": {
        "colab": {
          "base_uri": "https://localhost:8080/"
        },
        "id": "J5EwX33IUB94",
        "outputId": "64a87c2e-1744-480a-eb88-7fec360d7f12"
      },
      "outputs": [
        {
          "name": "stdout",
          "output_type": "stream",
          "text": [
            "Epoch 1/70\n",
            "63/63 [==============================] - 3s 20ms/step - loss: 1.6751 - accuracy: 0.6170 - precision: 0.6297 - recall: 0.5680 - auc: 0.6556 - val_loss: 0.5948 - val_accuracy: 0.7739 - val_precision: 0.7834 - val_recall: 0.7568 - val_auc: 0.8372\n",
            "Epoch 2/70\n",
            "63/63 [==============================] - 1s 19ms/step - loss: 1.0998 - accuracy: 0.6863 - precision: 0.6960 - recall: 0.6616 - auc: 0.7464 - val_loss: 0.5584 - val_accuracy: 0.8122 - val_precision: 0.8499 - val_recall: 0.7582 - val_auc: 0.8521\n",
            "Epoch 3/70\n",
            "63/63 [==============================] - 1s 18ms/step - loss: 0.8358 - accuracy: 0.7150 - precision: 0.7223 - recall: 0.6986 - auc: 0.7786 - val_loss: 0.5400 - val_accuracy: 0.8195 - val_precision: 0.8680 - val_recall: 0.7535 - val_auc: 0.8556\n",
            "Epoch 4/70\n",
            "63/63 [==============================] - 1s 21ms/step - loss: 0.7269 - accuracy: 0.7233 - precision: 0.7347 - recall: 0.6991 - auc: 0.7917 - val_loss: 0.5268 - val_accuracy: 0.8478 - val_precision: 0.9343 - val_recall: 0.7482 - val_auc: 0.8595\n",
            "Epoch 5/70\n",
            "63/63 [==============================] - 1s 19ms/step - loss: 0.6286 - accuracy: 0.7439 - precision: 0.7630 - recall: 0.7076 - auc: 0.8044 - val_loss: 0.5120 - val_accuracy: 0.8538 - val_precision: 0.9585 - val_recall: 0.7395 - val_auc: 0.8573\n",
            "Epoch 6/70\n",
            "63/63 [==============================] - 1s 18ms/step - loss: 0.5731 - accuracy: 0.7564 - precision: 0.7811 - recall: 0.7126 - auc: 0.8125 - val_loss: 0.4920 - val_accuracy: 0.8545 - val_precision: 0.9642 - val_recall: 0.7362 - val_auc: 0.8599\n",
            "Epoch 7/70\n",
            "63/63 [==============================] - 1s 19ms/step - loss: 0.5402 - accuracy: 0.7728 - precision: 0.8172 - recall: 0.7029 - auc: 0.8184 - val_loss: 0.4764 - val_accuracy: 0.8501 - val_precision: 0.9655 - val_recall: 0.7262 - val_auc: 0.8592\n",
            "Epoch 8/70\n",
            "63/63 [==============================] - 1s 20ms/step - loss: 0.5045 - accuracy: 0.7882 - precision: 0.8406 - recall: 0.7114 - auc: 0.8294 - val_loss: 0.4605 - val_accuracy: 0.8485 - val_precision: 0.9661 - val_recall: 0.7222 - val_auc: 0.8597\n",
            "Epoch 9/70\n",
            "63/63 [==============================] - 1s 12ms/step - loss: 0.4905 - accuracy: 0.7977 - precision: 0.8619 - recall: 0.7089 - auc: 0.8327 - val_loss: 0.4463 - val_accuracy: 0.8458 - val_precision: 0.9651 - val_recall: 0.7175 - val_auc: 0.8588\n",
            "Epoch 10/70\n",
            "63/63 [==============================] - 1s 13ms/step - loss: 0.4745 - accuracy: 0.8053 - precision: 0.8741 - recall: 0.7134 - auc: 0.8418 - val_loss: 0.4304 - val_accuracy: 0.8472 - val_precision: 0.9652 - val_recall: 0.7202 - val_auc: 0.8569\n",
            "Epoch 11/70\n",
            "63/63 [==============================] - 1s 12ms/step - loss: 0.4654 - accuracy: 0.8136 - precision: 0.8915 - recall: 0.7142 - auc: 0.8484 - val_loss: 0.4237 - val_accuracy: 0.8468 - val_precision: 0.9651 - val_recall: 0.7195 - val_auc: 0.8582\n",
            "Epoch 12/70\n",
            "63/63 [==============================] - 1s 14ms/step - loss: 0.4585 - accuracy: 0.8236 - precision: 0.9043 - recall: 0.7239 - auc: 0.8502 - val_loss: 0.4173 - val_accuracy: 0.8475 - val_precision: 0.9644 - val_recall: 0.7215 - val_auc: 0.8581\n",
            "Epoch 13/70\n",
            "63/63 [==============================] - 1s 14ms/step - loss: 0.4552 - accuracy: 0.8255 - precision: 0.9069 - recall: 0.7254 - auc: 0.8505 - val_loss: 0.4115 - val_accuracy: 0.8498 - val_precision: 0.9638 - val_recall: 0.7268 - val_auc: 0.8582\n",
            "Epoch 14/70\n",
            "63/63 [==============================] - 1s 13ms/step - loss: 0.4410 - accuracy: 0.8292 - precision: 0.9181 - recall: 0.7229 - auc: 0.8568 - val_loss: 0.4046 - val_accuracy: 0.8492 - val_precision: 0.9629 - val_recall: 0.7262 - val_auc: 0.8590\n",
            "Epoch 15/70\n",
            "63/63 [==============================] - 1s 13ms/step - loss: 0.4370 - accuracy: 0.8338 - precision: 0.9237 - recall: 0.7277 - auc: 0.8576 - val_loss: 0.4006 - val_accuracy: 0.8501 - val_precision: 0.9638 - val_recall: 0.7275 - val_auc: 0.8590\n",
            "Epoch 16/70\n",
            "63/63 [==============================] - 1s 12ms/step - loss: 0.4262 - accuracy: 0.8338 - precision: 0.9242 - recall: 0.7272 - auc: 0.8605 - val_loss: 0.3997 - val_accuracy: 0.8538 - val_precision: 0.9634 - val_recall: 0.7355 - val_auc: 0.8592\n",
            "Epoch 17/70\n",
            "63/63 [==============================] - 1s 13ms/step - loss: 0.4338 - accuracy: 0.8385 - precision: 0.9322 - recall: 0.7301 - auc: 0.8587 - val_loss: 0.3984 - val_accuracy: 0.8551 - val_precision: 0.9627 - val_recall: 0.7388 - val_auc: 0.8588\n",
            "Epoch 18/70\n",
            "63/63 [==============================] - 1s 14ms/step - loss: 0.4297 - accuracy: 0.8398 - precision: 0.9315 - recall: 0.7336 - auc: 0.8590 - val_loss: 0.3935 - val_accuracy: 0.8541 - val_precision: 0.9642 - val_recall: 0.7355 - val_auc: 0.8597\n",
            "Epoch 19/70\n",
            "63/63 [==============================] - 1s 12ms/step - loss: 0.4290 - accuracy: 0.8394 - precision: 0.9366 - recall: 0.7281 - auc: 0.8570 - val_loss: 0.3920 - val_accuracy: 0.8561 - val_precision: 0.9644 - val_recall: 0.7395 - val_auc: 0.8607\n",
            "Epoch 20/70\n",
            "63/63 [==============================] - 1s 12ms/step - loss: 0.4181 - accuracy: 0.8430 - precision: 0.9383 - recall: 0.7342 - auc: 0.8620 - val_loss: 0.3892 - val_accuracy: 0.8555 - val_precision: 0.9643 - val_recall: 0.7382 - val_auc: 0.8608\n",
            "Epoch 21/70\n",
            "63/63 [==============================] - 1s 18ms/step - loss: 0.4252 - accuracy: 0.8436 - precision: 0.9421 - recall: 0.7322 - auc: 0.8606 - val_loss: 0.3873 - val_accuracy: 0.8561 - val_precision: 0.9644 - val_recall: 0.7395 - val_auc: 0.8603\n",
            "Epoch 22/70\n",
            "63/63 [==============================] - 1s 20ms/step - loss: 0.4217 - accuracy: 0.8438 - precision: 0.9466 - recall: 0.7287 - auc: 0.8650 - val_loss: 0.3861 - val_accuracy: 0.8558 - val_precision: 0.9619 - val_recall: 0.7408 - val_auc: 0.8617\n",
            "Epoch 23/70\n",
            "63/63 [==============================] - 1s 19ms/step - loss: 0.4185 - accuracy: 0.8449 - precision: 0.9429 - recall: 0.7342 - auc: 0.8633 - val_loss: 0.3839 - val_accuracy: 0.8578 - val_precision: 0.9621 - val_recall: 0.7448 - val_auc: 0.8620\n",
            "Epoch 24/70\n",
            "63/63 [==============================] - 1s 19ms/step - loss: 0.4163 - accuracy: 0.8472 - precision: 0.9474 - recall: 0.7352 - auc: 0.8613 - val_loss: 0.3838 - val_accuracy: 0.8598 - val_precision: 0.9631 - val_recall: 0.7482 - val_auc: 0.8628\n",
            "Epoch 25/70\n",
            "63/63 [==============================] - 1s 20ms/step - loss: 0.4140 - accuracy: 0.8485 - precision: 0.9461 - recall: 0.7392 - auc: 0.8638 - val_loss: 0.3831 - val_accuracy: 0.8588 - val_precision: 0.9638 - val_recall: 0.7455 - val_auc: 0.8637\n",
            "Epoch 26/70\n",
            "63/63 [==============================] - 1s 18ms/step - loss: 0.4154 - accuracy: 0.8471 - precision: 0.9493 - recall: 0.7334 - auc: 0.8621 - val_loss: 0.3822 - val_accuracy: 0.8601 - val_precision: 0.9632 - val_recall: 0.7488 - val_auc: 0.8644\n",
            "Epoch 27/70\n",
            "63/63 [==============================] - 1s 13ms/step - loss: 0.4155 - accuracy: 0.8483 - precision: 0.9480 - recall: 0.7371 - auc: 0.8604 - val_loss: 0.3797 - val_accuracy: 0.8605 - val_precision: 0.9632 - val_recall: 0.7495 - val_auc: 0.8626\n",
            "Epoch 28/70\n",
            "63/63 [==============================] - 1s 13ms/step - loss: 0.4108 - accuracy: 0.8501 - precision: 0.9499 - recall: 0.7392 - auc: 0.8626 - val_loss: 0.3800 - val_accuracy: 0.8601 - val_precision: 0.9639 - val_recall: 0.7482 - val_auc: 0.8626\n",
            "Epoch 29/70\n",
            "63/63 [==============================] - 1s 13ms/step - loss: 0.4109 - accuracy: 0.8494 - precision: 0.9514 - recall: 0.7366 - auc: 0.8603 - val_loss: 0.3797 - val_accuracy: 0.8595 - val_precision: 0.9631 - val_recall: 0.7475 - val_auc: 0.8634\n",
            "Epoch 30/70\n",
            "63/63 [==============================] - 1s 13ms/step - loss: 0.4113 - accuracy: 0.8505 - precision: 0.9504 - recall: 0.7397 - auc: 0.8629 - val_loss: 0.3792 - val_accuracy: 0.8595 - val_precision: 0.9631 - val_recall: 0.7475 - val_auc: 0.8664\n",
            "Epoch 31/70\n",
            "63/63 [==============================] - 1s 13ms/step - loss: 0.4095 - accuracy: 0.8520 - precision: 0.9578 - recall: 0.7366 - auc: 0.8654 - val_loss: 0.3769 - val_accuracy: 0.8595 - val_precision: 0.9631 - val_recall: 0.7475 - val_auc: 0.8646\n",
            "Epoch 32/70\n",
            "63/63 [==============================] - 1s 13ms/step - loss: 0.4149 - accuracy: 0.8503 - precision: 0.9511 - recall: 0.7386 - auc: 0.8645 - val_loss: 0.3754 - val_accuracy: 0.8595 - val_precision: 0.9631 - val_recall: 0.7475 - val_auc: 0.8667\n",
            "Epoch 33/70\n",
            "63/63 [==============================] - 1s 12ms/step - loss: 0.4095 - accuracy: 0.8506 - precision: 0.9547 - recall: 0.7362 - auc: 0.8630 - val_loss: 0.3791 - val_accuracy: 0.8595 - val_precision: 0.9631 - val_recall: 0.7475 - val_auc: 0.8663\n",
            "Epoch 34/70\n",
            "63/63 [==============================] - 1s 12ms/step - loss: 0.4072 - accuracy: 0.8514 - precision: 0.9553 - recall: 0.7372 - auc: 0.8671 - val_loss: 0.3770 - val_accuracy: 0.8601 - val_precision: 0.9616 - val_recall: 0.7502 - val_auc: 0.8664\n",
            "Epoch 35/70\n",
            "63/63 [==============================] - 1s 13ms/step - loss: 0.4041 - accuracy: 0.8520 - precision: 0.9513 - recall: 0.7420 - auc: 0.8625 - val_loss: 0.3781 - val_accuracy: 0.8591 - val_precision: 0.9639 - val_recall: 0.7462 - val_auc: 0.8679\n",
            "Epoch 36/70\n",
            "63/63 [==============================] - 1s 13ms/step - loss: 0.4046 - accuracy: 0.8514 - precision: 0.9561 - recall: 0.7366 - auc: 0.8673 - val_loss: 0.3764 - val_accuracy: 0.8598 - val_precision: 0.9623 - val_recall: 0.7488 - val_auc: 0.8668\n",
            "Epoch 37/70\n",
            "63/63 [==============================] - 1s 13ms/step - loss: 0.4064 - accuracy: 0.8516 - precision: 0.9530 - recall: 0.7397 - auc: 0.8654 - val_loss: 0.3753 - val_accuracy: 0.8595 - val_precision: 0.9631 - val_recall: 0.7475 - val_auc: 0.8689\n",
            "Epoch 38/70\n",
            "63/63 [==============================] - 1s 12ms/step - loss: 0.4039 - accuracy: 0.8524 - precision: 0.9564 - recall: 0.7384 - auc: 0.8683 - val_loss: 0.3748 - val_accuracy: 0.8595 - val_precision: 0.9623 - val_recall: 0.7482 - val_auc: 0.8693\n",
            "Epoch 39/70\n",
            "63/63 [==============================] - 1s 18ms/step - loss: 0.4022 - accuracy: 0.8536 - precision: 0.9581 - recall: 0.7396 - auc: 0.8649 - val_loss: 0.3737 - val_accuracy: 0.8601 - val_precision: 0.9624 - val_recall: 0.7495 - val_auc: 0.8687\n",
            "Epoch 40/70\n",
            "63/63 [==============================] - 1s 20ms/step - loss: 0.4013 - accuracy: 0.8537 - precision: 0.9582 - recall: 0.7397 - auc: 0.8645 - val_loss: 0.3749 - val_accuracy: 0.8605 - val_precision: 0.9616 - val_recall: 0.7508 - val_auc: 0.8694\n",
            "Epoch 41/70\n",
            "63/63 [==============================] - 1s 19ms/step - loss: 0.4029 - accuracy: 0.8538 - precision: 0.9560 - recall: 0.7417 - auc: 0.8653 - val_loss: 0.3727 - val_accuracy: 0.8598 - val_precision: 0.9639 - val_recall: 0.7475 - val_auc: 0.8703\n",
            "Epoch 42/70\n",
            "63/63 [==============================] - 1s 20ms/step - loss: 0.4030 - accuracy: 0.8549 - precision: 0.9585 - recall: 0.7420 - auc: 0.8632 - val_loss: 0.3730 - val_accuracy: 0.8601 - val_precision: 0.9624 - val_recall: 0.7495 - val_auc: 0.8690\n",
            "Epoch 43/70\n",
            "63/63 [==============================] - 1s 19ms/step - loss: 0.4001 - accuracy: 0.8539 - precision: 0.9556 - recall: 0.7422 - auc: 0.8666 - val_loss: 0.3732 - val_accuracy: 0.8598 - val_precision: 0.9631 - val_recall: 0.7482 - val_auc: 0.8688\n",
            "Epoch 44/70\n",
            "63/63 [==============================] - 1s 19ms/step - loss: 0.4030 - accuracy: 0.8539 - precision: 0.9568 - recall: 0.7412 - auc: 0.8664 - val_loss: 0.3729 - val_accuracy: 0.8598 - val_precision: 0.9631 - val_recall: 0.7482 - val_auc: 0.8720\n",
            "Epoch 45/70\n",
            "63/63 [==============================] - 1s 12ms/step - loss: 0.3991 - accuracy: 0.8554 - precision: 0.9591 - recall: 0.7424 - auc: 0.8698 - val_loss: 0.3726 - val_accuracy: 0.8598 - val_precision: 0.9623 - val_recall: 0.7488 - val_auc: 0.8717\n",
            "Epoch 46/70\n",
            "63/63 [==============================] - 1s 12ms/step - loss: 0.3990 - accuracy: 0.8554 - precision: 0.9581 - recall: 0.7432 - auc: 0.8673 - val_loss: 0.3697 - val_accuracy: 0.8601 - val_precision: 0.9616 - val_recall: 0.7502 - val_auc: 0.8722\n",
            "Epoch 47/70\n",
            "63/63 [==============================] - 1s 11ms/step - loss: 0.3990 - accuracy: 0.8533 - precision: 0.9579 - recall: 0.7391 - auc: 0.8697 - val_loss: 0.3730 - val_accuracy: 0.8601 - val_precision: 0.9655 - val_recall: 0.7468 - val_auc: 0.8744\n",
            "Epoch 48/70\n",
            "63/63 [==============================] - 1s 12ms/step - loss: 0.3981 - accuracy: 0.8543 - precision: 0.9574 - recall: 0.7415 - auc: 0.8667 - val_loss: 0.3709 - val_accuracy: 0.8598 - val_precision: 0.9623 - val_recall: 0.7488 - val_auc: 0.8729\n",
            "Epoch 49/70\n",
            "63/63 [==============================] - 1s 13ms/step - loss: 0.3963 - accuracy: 0.8555 - precision: 0.9576 - recall: 0.7440 - auc: 0.8701 - val_loss: 0.3691 - val_accuracy: 0.8598 - val_precision: 0.9639 - val_recall: 0.7475 - val_auc: 0.8756\n",
            "Epoch 50/70\n",
            "63/63 [==============================] - 1s 13ms/step - loss: 0.3958 - accuracy: 0.8558 - precision: 0.9580 - recall: 0.7442 - auc: 0.8654 - val_loss: 0.3689 - val_accuracy: 0.8605 - val_precision: 0.9648 - val_recall: 0.7482 - val_auc: 0.8758\n",
            "Epoch 51/70\n",
            "63/63 [==============================] - 1s 13ms/step - loss: 0.3917 - accuracy: 0.8576 - precision: 0.9605 - recall: 0.7459 - auc: 0.8707 - val_loss: 0.3719 - val_accuracy: 0.8601 - val_precision: 0.9616 - val_recall: 0.7502 - val_auc: 0.8768\n",
            "Epoch 52/70\n",
            "63/63 [==============================] - 1s 13ms/step - loss: 0.4003 - accuracy: 0.8554 - precision: 0.9597 - recall: 0.7419 - auc: 0.8677 - val_loss: 0.3705 - val_accuracy: 0.8605 - val_precision: 0.9656 - val_recall: 0.7475 - val_auc: 0.8771\n",
            "Epoch 53/70\n",
            "63/63 [==============================] - 1s 13ms/step - loss: 0.3975 - accuracy: 0.8559 - precision: 0.9604 - recall: 0.7425 - auc: 0.8696 - val_loss: 0.3700 - val_accuracy: 0.8601 - val_precision: 0.9616 - val_recall: 0.7502 - val_auc: 0.8792\n",
            "Epoch 54/70\n",
            "63/63 [==============================] - 1s 18ms/step - loss: 0.3985 - accuracy: 0.8566 - precision: 0.9612 - recall: 0.7432 - auc: 0.8695 - val_loss: 0.3709 - val_accuracy: 0.8605 - val_precision: 0.9616 - val_recall: 0.7508 - val_auc: 0.8790\n",
            "Epoch 55/70\n",
            "63/63 [==============================] - 1s 20ms/step - loss: 0.3959 - accuracy: 0.8559 - precision: 0.9592 - recall: 0.7434 - auc: 0.8720 - val_loss: 0.3723 - val_accuracy: 0.8591 - val_precision: 0.9576 - val_recall: 0.7515 - val_auc: 0.8798\n",
            "Epoch 56/70\n",
            "63/63 [==============================] - 1s 19ms/step - loss: 0.3895 - accuracy: 0.8563 - precision: 0.9588 - recall: 0.7445 - auc: 0.8721 - val_loss: 0.3701 - val_accuracy: 0.8595 - val_precision: 0.9623 - val_recall: 0.7482 - val_auc: 0.8797\n",
            "Epoch 57/70\n",
            "63/63 [==============================] - 1s 20ms/step - loss: 0.3947 - accuracy: 0.8556 - precision: 0.9601 - recall: 0.7420 - auc: 0.8709 - val_loss: 0.3667 - val_accuracy: 0.8595 - val_precision: 0.9631 - val_recall: 0.7475 - val_auc: 0.8812\n",
            "Epoch 58/70\n",
            "63/63 [==============================] - 1s 20ms/step - loss: 0.3917 - accuracy: 0.8564 - precision: 0.9598 - recall: 0.7439 - auc: 0.8745 - val_loss: 0.3666 - val_accuracy: 0.8598 - val_precision: 0.9631 - val_recall: 0.7482 - val_auc: 0.8819\n",
            "Epoch 59/70\n",
            "63/63 [==============================] - 1s 20ms/step - loss: 0.3948 - accuracy: 0.8548 - precision: 0.9595 - recall: 0.7409 - auc: 0.8723 - val_loss: 0.3684 - val_accuracy: 0.8598 - val_precision: 0.9623 - val_recall: 0.7488 - val_auc: 0.8829\n",
            "Epoch 60/70\n",
            "63/63 [==============================] - 1s 18ms/step - loss: 0.3979 - accuracy: 0.8557 - precision: 0.9599 - recall: 0.7424 - auc: 0.8695 - val_loss: 0.3687 - val_accuracy: 0.8595 - val_precision: 0.9631 - val_recall: 0.7475 - val_auc: 0.8818\n",
            "Epoch 61/70\n",
            "63/63 [==============================] - 1s 20ms/step - loss: 0.3897 - accuracy: 0.8572 - precision: 0.9611 - recall: 0.7445 - auc: 0.8740 - val_loss: 0.3697 - val_accuracy: 0.8605 - val_precision: 0.9608 - val_recall: 0.7515 - val_auc: 0.8825\n",
            "Epoch 62/70\n",
            "63/63 [==============================] - 1s 13ms/step - loss: 0.3938 - accuracy: 0.8556 - precision: 0.9584 - recall: 0.7435 - auc: 0.8710 - val_loss: 0.3680 - val_accuracy: 0.8605 - val_precision: 0.9608 - val_recall: 0.7515 - val_auc: 0.8818\n",
            "Epoch 63/70\n",
            "63/63 [==============================] - 1s 13ms/step - loss: 0.3873 - accuracy: 0.8574 - precision: 0.9611 - recall: 0.7449 - auc: 0.8732 - val_loss: 0.3687 - val_accuracy: 0.8595 - val_precision: 0.9584 - val_recall: 0.7515 - val_auc: 0.8845\n",
            "Epoch 64/70\n",
            "63/63 [==============================] - 1s 13ms/step - loss: 0.3929 - accuracy: 0.8566 - precision: 0.9598 - recall: 0.7444 - auc: 0.8708 - val_loss: 0.3669 - val_accuracy: 0.8605 - val_precision: 0.9648 - val_recall: 0.7482 - val_auc: 0.8847\n",
            "Epoch 65/70\n",
            "63/63 [==============================] - 1s 13ms/step - loss: 0.3906 - accuracy: 0.8564 - precision: 0.9600 - recall: 0.7437 - auc: 0.8733 - val_loss: 0.3686 - val_accuracy: 0.8601 - val_precision: 0.9647 - val_recall: 0.7475 - val_auc: 0.8857\n",
            "Epoch 66/70\n",
            "63/63 [==============================] - 1s 13ms/step - loss: 0.3932 - accuracy: 0.8588 - precision: 0.9632 - recall: 0.7460 - auc: 0.8711 - val_loss: 0.3705 - val_accuracy: 0.8598 - val_precision: 0.9623 - val_recall: 0.7488 - val_auc: 0.8846\n",
            "Epoch 67/70\n",
            "63/63 [==============================] - 1s 12ms/step - loss: 0.3945 - accuracy: 0.8552 - precision: 0.9577 - recall: 0.7432 - auc: 0.8722 - val_loss: 0.3666 - val_accuracy: 0.8605 - val_precision: 0.9624 - val_recall: 0.7502 - val_auc: 0.8857\n",
            "Epoch 68/70\n",
            "63/63 [==============================] - 1s 13ms/step - loss: 0.3913 - accuracy: 0.8577 - precision: 0.9605 - recall: 0.7460 - auc: 0.8738 - val_loss: 0.3662 - val_accuracy: 0.8605 - val_precision: 0.9648 - val_recall: 0.7482 - val_auc: 0.8879\n",
            "Epoch 69/70\n",
            "63/63 [==============================] - 1s 13ms/step - loss: 0.3890 - accuracy: 0.8563 - precision: 0.9612 - recall: 0.7425 - auc: 0.8737 - val_loss: 0.3688 - val_accuracy: 0.8605 - val_precision: 0.9640 - val_recall: 0.7488 - val_auc: 0.8878\n",
            "Epoch 70/70\n",
            "63/63 [==============================] - 1s 13ms/step - loss: 0.3865 - accuracy: 0.8581 - precision: 0.9618 - recall: 0.7459 - auc: 0.8750 - val_loss: 0.3641 - val_accuracy: 0.8605 - val_precision: 0.9632 - val_recall: 0.7495 - val_auc: 0.8874\n"
          ]
        }
      ],
      "source": [
        "#model learns from the training\n",
        "history = CNN.fit(X_train_reshaped, y_train, epochs=epochs, batch_size=192, validation_data=(X_test_reshaped, y_test), verbose=1)"
      ]
    },
    {
      "cell_type": "code",
      "execution_count": 25,
      "metadata": {
        "id": "awyiaBX7UB7R"
      },
      "outputs": [],
      "source": [
        "#Plotting the learning curves\n",
        "def plot_learningCurve(history, epoch):\n",
        "  # Plot training & validation accuracy values\n",
        "  epoch_range = range(1, epoch+1)\n",
        "  plt.plot(epoch_range, history.history['accuracy'])\n",
        "  plt.plot(epoch_range, history.history['val_accuracy'])\n",
        "  plt.title('Model accuracy')\n",
        "  plt.ylabel('Accuracy')\n",
        "  plt.xlabel('Epoch')\n",
        "  plt.legend(['Train', 'Val'], loc='lower right')\n",
        "  plt.show()\n",
        "\n",
        "  # Plot training & validation loss values\n",
        "  plt.plot(epoch_range, history.history['loss'])\n",
        "  plt.plot(epoch_range, history.history['val_loss'])\n",
        "  plt.title('Model loss')\n",
        "  plt.ylabel('Loss')\n",
        "  plt.xlabel('Epoch')\n",
        "  plt.legend(['Train', 'Validation'], loc='upper right')\n",
        "  plt.show()"
      ]
    },
    {
      "cell_type": "code",
      "execution_count": 26,
      "metadata": {
        "colab": {
          "base_uri": "https://localhost:8080/",
          "height": 927
        },
        "id": "8XjvfRoBUB4-",
        "outputId": "b8808945-ca7a-423e-c997-f7d74e4cf4de"
      },
      "outputs": [
        {
          "data": {
            "image/png": "[encoded data removed]",
            "text/plain": [
              "<Figure size 640x480 with 1 Axes>"
            ]
          },
          "metadata": {},
          "output_type": "display_data"
        },
        {
          "data": {
            "image/png": "[encoded data removed]",
            "text/plain": [
              "<Figure size 640x480 with 1 Axes>"
            ]
          },
          "metadata": {},
          "output_type": "display_data"
        }
      ],
      "source": [
        "plot_learningCurve(history, epochs)"
      ]
    },
    {
      "cell_type": "code",
      "execution_count": 27,
      "metadata": {
        "colab": {
          "base_uri": "https://localhost:8080/"
        },
        "id": "O1sIx_8TKkBF",
        "outputId": "a3e5b41b-0f9b-4c31-b905-d77407d1abd7"
      },
      "outputs": [
        {
          "name": "stdout",
          "output_type": "stream",
          "text": [
            "94/94 [==============================] - 0s 3ms/step - loss: 0.3641 - accuracy: 0.8605 - precision: 0.9632 - recall: 0.7495 - auc: 0.8874\n",
            "Test loss:0.36411046981811523\n",
            "Accuracy:0.8604728579521179\n",
            "Precision:0.9631849527359009\n",
            "Recall:0.7495003342628479\n",
            "AUC:0.8874183893203735\n"
          ]
        }
      ],
      "source": [
        "#evaluating the model\n",
        "results = CNN.evaluate(X_test_reshaped, y_test)\n",
        "test_loss, accuracy, precision, recall, auc = results\n",
        "print(f\"Test loss:{test_loss}\") #the difference between the model's prediction and the target value\n",
        "print(f\"Accuracy:{accuracy}\")   #measures the correctly predicted instances out of the total number of instances\n",
        "print(f\"Precision:{precision}\") #measures how many correct positive were predicted out of all the positives\n",
        "print(f\"Recall:{recall}\")   #measures the accuracy of positive predictions made by the model\n",
        "print(f\"AUC:{auc}\")"
      ]
    },
    {
      "cell_type": "code",
      "execution_count": 28,
      "metadata": {
        "colab": {
          "base_uri": "https://localhost:8080/"
        },
        "id": "dx7jnpWTKj3B",
        "outputId": "8237d4cc-42ed-4fae-b9ad-4f2b81ce0cf6"
      },
      "outputs": [
        {
          "name": "stdout",
          "output_type": "stream",
          "text": [
            "94/94 [==============================] - 0s 2ms/step\n"
          ]
        }
      ],
      "source": [
        "#generating the predictions\n",
        "y_pred = y_pred_for_DLModels(CNN, X_test)"
      ]
    },
    {
      "cell_type": "code",
      "execution_count": 29,
      "metadata": {
        "colab": {
          "base_uri": "https://localhost:8080/"
        },
        "id": "TlVXZyyAKqwX",
        "outputId": "33562c10-e1e6-4fac-9c5f-901e9ad34075"
      },
      "outputs": [
        {
          "data": {
            "text/plain": [
              "0.8430123730408743"
            ]
          },
          "execution_count": 29,
          "metadata": {},
          "output_type": "execute_result"
        }
      ],
      "source": [
        "#F score\n",
        "F1 = 2 * (precision * recall) / (precision + recall)\n",
        "F1"
      ]
    },
    {
      "cell_type": "code",
      "execution_count": 30,
      "metadata": {
        "colab": {
          "base_uri": "https://localhost:8080/",
          "height": 472
        },
        "id": "b5r2IpHQUqpO",
        "outputId": "a61e1979-87e8-47f6-f170-b7b698353f08"
      },
      "outputs": [
        {
          "data": {
            "image/png": "[encoded data removed]",
            "text/plain": [
              "<Figure size 640x480 with 2 Axes>"
            ]
          },
          "metadata": {},
          "output_type": "display_data"
        }
      ],
      "source": [
        "#Creating the confusion matrix using the test and predicted data.\n",
        "actual = (y_test)\n",
        "predicted = (y_pred)\n",
        "\n",
        "confusion_matrix = metrics.confusion_matrix(actual, predicted)\n",
        "\n",
        "cm_display = metrics.ConfusionMatrixDisplay(confusion_matrix = confusion_matrix, display_labels = [False, True])\n",
        "\n",
        "cm_display.plot()\n",
        "plt.title('Confusion Matrix')\n",
        "plt.show()"
      ]
    },
    {
      "cell_type": "code",
      "execution_count": 33,
      "metadata": {
        "colab": {
          "base_uri": "https://localhost:8080/",
          "height": 1000
        },
        "id": "L8UyTEUJUBkA",
        "outputId": "49de2a80-af83-4ef0-c59b-a6a5f8404326"
      },
      "outputs": [
        {
          "name": "stdout",
          "output_type": "stream",
          "text": [
            "Epoch 1/70\n",
            "47/47 [==============================] - 9s 30ms/step - loss: 1.2069 - accuracy: 0.5442 - precision_3: 0.5451 - recall_3: 0.5349 - auc_3: 0.5555 - val_loss: 0.6646 - val_accuracy: 0.6787 - val_precision_3: 0.6765 - val_recall_3: 0.6842 - val_auc_3: 0.7544\n",
            "Epoch 2/70\n",
            "47/47 [==============================] - 1s 11ms/step - loss: 0.8879 - accuracy: 0.5937 - precision_3: 0.5943 - recall_3: 0.5908 - auc_3: 0.6275 - val_loss: 0.6428 - val_accuracy: 0.7030 - val_precision_3: 0.7244 - val_recall_3: 0.6549 - val_auc_3: 0.7715\n",
            "Epoch 3/70\n",
            "47/47 [==============================] - 1s 11ms/step - loss: 0.7387 - accuracy: 0.6259 - precision_3: 0.6307 - recall_3: 0.6078 - auc_3: 0.6705 - val_loss: 0.6161 - val_accuracy: 0.7163 - val_precision_3: 0.7423 - val_recall_3: 0.6622 - val_auc_3: 0.7807\n",
            "Epoch 4/70\n",
            "47/47 [==============================] - 0s 11ms/step - loss: 0.6647 - accuracy: 0.6521 - precision_3: 0.6574 - recall_3: 0.6353 - auc_3: 0.7071 - val_loss: 0.5911 - val_accuracy: 0.7223 - val_precision_3: 0.7745 - val_recall_3: 0.6269 - val_auc_3: 0.7895\n",
            "Epoch 5/70\n",
            "47/47 [==============================] - 1s 11ms/step - loss: 0.6421 - accuracy: 0.6649 - precision_3: 0.6803 - recall_3: 0.6223 - auc_3: 0.7149 - val_loss: 0.5693 - val_accuracy: 0.7426 - val_precision_3: 0.8143 - val_recall_3: 0.6282 - val_auc_3: 0.7990\n",
            "Epoch 6/70\n",
            "47/47 [==============================] - 1s 11ms/step - loss: 0.6127 - accuracy: 0.6815 - precision_3: 0.6948 - recall_3: 0.6475 - auc_3: 0.7362 - val_loss: 0.5495 - val_accuracy: 0.7599 - val_precision_3: 0.8552 - val_recall_3: 0.6256 - val_auc_3: 0.8089\n",
            "Epoch 7/70\n",
            "47/47 [==============================] - 0s 10ms/step - loss: 0.5862 - accuracy: 0.6984 - precision_3: 0.7261 - recall_3: 0.6371 - auc_3: 0.7519 - val_loss: 0.5316 - val_accuracy: 0.7739 - val_precision_3: 0.9077 - val_recall_3: 0.6096 - val_auc_3: 0.8200\n",
            "Epoch 8/70\n",
            "47/47 [==============================] - 1s 12ms/step - loss: 0.5672 - accuracy: 0.7119 - precision_3: 0.7500 - recall_3: 0.6356 - auc_3: 0.7669 - val_loss: 0.5178 - val_accuracy: 0.7819 - val_precision_3: 0.9308 - val_recall_3: 0.6089 - val_auc_3: 0.8318\n",
            "Epoch 9/70\n",
            "47/47 [==============================] - 1s 16ms/step - loss: 0.5523 - accuracy: 0.7278 - precision_3: 0.7740 - recall_3: 0.6435 - auc_3: 0.7818 - val_loss: 0.5050 - val_accuracy: 0.7855 - val_precision_3: 0.9450 - val_recall_3: 0.6063 - val_auc_3: 0.8384\n",
            "Epoch 10/70\n",
            "47/47 [==============================] - 1s 16ms/step - loss: 0.5388 - accuracy: 0.7389 - precision_3: 0.7990 - recall_3: 0.6386 - auc_3: 0.7921 - val_loss: 0.4897 - val_accuracy: 0.7955 - val_precision_3: 0.9484 - val_recall_3: 0.6249 - val_auc_3: 0.8432\n",
            "Epoch 11/70\n",
            "47/47 [==============================] - 1s 15ms/step - loss: 0.5251 - accuracy: 0.7451 - precision_3: 0.8031 - recall_3: 0.6495 - auc_3: 0.8002 - val_loss: 0.4799 - val_accuracy: 0.8009 - val_precision_3: 0.9510 - val_recall_3: 0.6342 - val_auc_3: 0.8460\n",
            "Epoch 12/70\n",
            "47/47 [==============================] - 1s 16ms/step - loss: 0.5196 - accuracy: 0.7563 - precision_3: 0.8246 - recall_3: 0.6513 - auc_3: 0.8032 - val_loss: 0.4726 - val_accuracy: 0.8019 - val_precision_3: 0.9539 - val_recall_3: 0.6342 - val_auc_3: 0.8494\n",
            "Epoch 13/70\n",
            "47/47 [==============================] - 1s 16ms/step - loss: 0.5163 - accuracy: 0.7601 - precision_3: 0.8330 - recall_3: 0.6506 - auc_3: 0.8079 - val_loss: 0.4702 - val_accuracy: 0.8019 - val_precision_3: 0.9622 - val_recall_3: 0.6282 - val_auc_3: 0.8513\n",
            "Epoch 14/70\n",
            "47/47 [==============================] - 1s 16ms/step - loss: 0.5106 - accuracy: 0.7652 - precision_3: 0.8481 - recall_3: 0.6461 - auc_3: 0.8140 - val_loss: 0.4668 - val_accuracy: 0.8045 - val_precision_3: 0.9626 - val_recall_3: 0.6336 - val_auc_3: 0.8529\n",
            "Epoch 15/70\n",
            "47/47 [==============================] - 1s 16ms/step - loss: 0.4968 - accuracy: 0.7703 - precision_3: 0.8489 - recall_3: 0.6576 - auc_3: 0.8206 - val_loss: 0.4522 - val_accuracy: 0.8182 - val_precision_3: 0.9578 - val_recall_3: 0.6656 - val_auc_3: 0.8512\n",
            "Epoch 16/70\n",
            "47/47 [==============================] - 1s 16ms/step - loss: 0.4946 - accuracy: 0.7780 - precision_3: 0.8583 - recall_3: 0.6659 - auc_3: 0.8218 - val_loss: 0.4493 - val_accuracy: 0.8202 - val_precision_3: 0.9607 - val_recall_3: 0.6676 - val_auc_3: 0.8542\n",
            "Epoch 17/70\n",
            "47/47 [==============================] - 1s 15ms/step - loss: 0.4906 - accuracy: 0.7852 - precision_3: 0.8668 - recall_3: 0.6739 - auc_3: 0.8255 - val_loss: 0.4481 - val_accuracy: 0.8178 - val_precision_3: 0.9640 - val_recall_3: 0.6602 - val_auc_3: 0.8569\n",
            "Epoch 18/70\n",
            "47/47 [==============================] - 1s 15ms/step - loss: 0.4893 - accuracy: 0.7855 - precision_3: 0.8722 - recall_3: 0.6691 - auc_3: 0.8233 - val_loss: 0.4433 - val_accuracy: 0.8172 - val_precision_3: 0.9612 - val_recall_3: 0.6609 - val_auc_3: 0.8571\n",
            "Epoch 19/70\n",
            "47/47 [==============================] - 0s 10ms/step - loss: 0.4839 - accuracy: 0.7899 - precision_3: 0.8808 - recall_3: 0.6706 - auc_3: 0.8301 - val_loss: 0.4382 - val_accuracy: 0.8252 - val_precision_3: 0.9586 - val_recall_3: 0.6795 - val_auc_3: 0.8573\n",
            "Epoch 20/70\n",
            "47/47 [==============================] - 1s 11ms/step - loss: 0.4798 - accuracy: 0.7914 - precision_3: 0.8844 - recall_3: 0.6704 - auc_3: 0.8323 - val_loss: 0.4382 - val_accuracy: 0.8198 - val_precision_3: 0.9624 - val_recall_3: 0.6656 - val_auc_3: 0.8604\n",
            "Epoch 21/70\n",
            "47/47 [==============================] - 1s 11ms/step - loss: 0.4759 - accuracy: 0.7924 - precision_3: 0.8816 - recall_3: 0.6756 - auc_3: 0.8346 - val_loss: 0.4367 - val_accuracy: 0.8159 - val_precision_3: 0.9629 - val_recall_3: 0.6569 - val_auc_3: 0.8615\n",
            "Epoch 22/70\n",
            "47/47 [==============================] - 1s 11ms/step - loss: 0.4694 - accuracy: 0.7946 - precision_3: 0.8902 - recall_3: 0.6721 - auc_3: 0.8394 - val_loss: 0.4327 - val_accuracy: 0.8208 - val_precision_3: 0.9590 - val_recall_3: 0.6702 - val_auc_3: 0.8629\n",
            "Epoch 23/70\n",
            "47/47 [==============================] - 1s 11ms/step - loss: 0.4720 - accuracy: 0.7979 - precision_3: 0.8911 - recall_3: 0.6788 - auc_3: 0.8413 - val_loss: 0.4298 - val_accuracy: 0.8215 - val_precision_3: 0.9608 - val_recall_3: 0.6702 - val_auc_3: 0.8642\n",
            "Epoch 24/70\n",
            "47/47 [==============================] - 1s 11ms/step - loss: 0.4682 - accuracy: 0.7983 - precision_3: 0.9012 - recall_3: 0.6701 - auc_3: 0.8406 - val_loss: 0.4273 - val_accuracy: 0.8225 - val_precision_3: 0.9618 - val_recall_3: 0.6716 - val_auc_3: 0.8649\n",
            "Epoch 25/70\n",
            "47/47 [==============================] - 1s 11ms/step - loss: 0.4614 - accuracy: 0.8025 - precision_3: 0.9045 - recall_3: 0.6764 - auc_3: 0.8441 - val_loss: 0.4216 - val_accuracy: 0.8272 - val_precision_3: 0.9623 - val_recall_3: 0.6809 - val_auc_3: 0.8661\n",
            "Epoch 26/70\n",
            "47/47 [==============================] - 1s 11ms/step - loss: 0.4591 - accuracy: 0.8066 - precision_3: 0.9057 - recall_3: 0.6844 - auc_3: 0.8450 - val_loss: 0.4195 - val_accuracy: 0.8275 - val_precision_3: 0.9598 - val_recall_3: 0.6835 - val_auc_3: 0.8689\n",
            "Epoch 27/70\n",
            "47/47 [==============================] - 0s 10ms/step - loss: 0.4558 - accuracy: 0.8057 - precision_3: 0.9037 - recall_3: 0.6844 - auc_3: 0.8460 - val_loss: 0.4152 - val_accuracy: 0.8332 - val_precision_3: 0.9570 - val_recall_3: 0.6975 - val_auc_3: 0.8679\n",
            "Epoch 28/70\n",
            "47/47 [==============================] - 1s 11ms/step - loss: 0.4560 - accuracy: 0.8111 - precision_3: 0.9109 - recall_3: 0.6898 - auc_3: 0.8470 - val_loss: 0.4154 - val_accuracy: 0.8332 - val_precision_3: 0.9570 - val_recall_3: 0.6975 - val_auc_3: 0.8707\n",
            "Epoch 29/70\n",
            "47/47 [==============================] - 1s 11ms/step - loss: 0.4526 - accuracy: 0.8096 - precision_3: 0.9047 - recall_3: 0.6921 - auc_3: 0.8482 - val_loss: 0.4161 - val_accuracy: 0.8335 - val_precision_3: 0.9596 - val_recall_3: 0.6962 - val_auc_3: 0.8701\n",
            "Epoch 30/70\n",
            "47/47 [==============================] - 0s 10ms/step - loss: 0.4517 - accuracy: 0.8101 - precision_3: 0.9080 - recall_3: 0.6903 - auc_3: 0.8498 - val_loss: 0.4131 - val_accuracy: 0.8355 - val_precision_3: 0.9581 - val_recall_3: 0.7015 - val_auc_3: 0.8704\n",
            "Epoch 31/70\n",
            "47/47 [==============================] - 1s 11ms/step - loss: 0.4510 - accuracy: 0.8144 - precision_3: 0.9094 - recall_3: 0.6984 - auc_3: 0.8537 - val_loss: 0.4102 - val_accuracy: 0.8358 - val_precision_3: 0.9574 - val_recall_3: 0.7029 - val_auc_3: 0.8714\n",
            "Epoch 32/70\n",
            "47/47 [==============================] - 0s 11ms/step - loss: 0.4541 - accuracy: 0.8136 - precision_3: 0.9139 - recall_3: 0.6926 - auc_3: 0.8520 - val_loss: 0.4067 - val_accuracy: 0.8395 - val_precision_3: 0.9553 - val_recall_3: 0.7122 - val_auc_3: 0.8725\n",
            "Epoch 33/70\n",
            "47/47 [==============================] - 1s 11ms/step - loss: 0.4460 - accuracy: 0.8113 - precision_3: 0.9083 - recall_3: 0.6926 - auc_3: 0.8518 - val_loss: 0.4044 - val_accuracy: 0.8398 - val_precision_3: 0.9570 - val_recall_3: 0.7115 - val_auc_3: 0.8711\n",
            "Epoch 34/70\n",
            "47/47 [==============================] - 0s 10ms/step - loss: 0.4430 - accuracy: 0.8169 - precision_3: 0.9144 - recall_3: 0.6993 - auc_3: 0.8530 - val_loss: 0.4056 - val_accuracy: 0.8385 - val_precision_3: 0.9601 - val_recall_3: 0.7062 - val_auc_3: 0.8746\n",
            "Epoch 35/70\n",
            "47/47 [==============================] - 1s 11ms/step - loss: 0.4463 - accuracy: 0.8209 - precision_3: 0.9211 - recall_3: 0.7019 - auc_3: 0.8576 - val_loss: 0.4026 - val_accuracy: 0.8372 - val_precision_3: 0.9575 - val_recall_3: 0.7055 - val_auc_3: 0.8768\n",
            "Epoch 36/70\n",
            "47/47 [==============================] - 1s 11ms/step - loss: 0.4365 - accuracy: 0.8203 - precision_3: 0.9193 - recall_3: 0.7022 - auc_3: 0.8610 - val_loss: 0.4016 - val_accuracy: 0.8408 - val_precision_3: 0.9539 - val_recall_3: 0.7162 - val_auc_3: 0.8745\n",
            "Epoch 37/70\n",
            "47/47 [==============================] - 1s 11ms/step - loss: 0.4401 - accuracy: 0.8163 - precision_3: 0.9121 - recall_3: 0.7001 - auc_3: 0.8574 - val_loss: 0.3979 - val_accuracy: 0.8455 - val_precision_3: 0.9536 - val_recall_3: 0.7262 - val_auc_3: 0.8745\n",
            "Epoch 38/70\n",
            "47/47 [==============================] - 1s 18ms/step - loss: 0.4421 - accuracy: 0.8198 - precision_3: 0.9181 - recall_3: 0.7022 - auc_3: 0.8576 - val_loss: 0.3978 - val_accuracy: 0.8442 - val_precision_3: 0.9575 - val_recall_3: 0.7202 - val_auc_3: 0.8780\n",
            "Epoch 39/70\n",
            "47/47 [==============================] - 1s 17ms/step - loss: 0.4369 - accuracy: 0.8205 - precision_3: 0.9221 - recall_3: 0.7001 - auc_3: 0.8601 - val_loss: 0.3976 - val_accuracy: 0.8422 - val_precision_3: 0.9573 - val_recall_3: 0.7162 - val_auc_3: 0.8765\n",
            "Epoch 40/70\n",
            "47/47 [==============================] - 1s 16ms/step - loss: 0.4421 - accuracy: 0.8215 - precision_3: 0.9201 - recall_3: 0.7041 - auc_3: 0.8570 - val_loss: 0.3972 - val_accuracy: 0.8445 - val_precision_3: 0.9575 - val_recall_3: 0.7209 - val_auc_3: 0.8779\n",
            "Epoch 41/70\n",
            "47/47 [==============================] - 1s 14ms/step - loss: 0.4391 - accuracy: 0.8218 - precision_3: 0.9200 - recall_3: 0.7049 - auc_3: 0.8582 - val_loss: 0.3966 - val_accuracy: 0.8455 - val_precision_3: 0.9552 - val_recall_3: 0.7249 - val_auc_3: 0.8757\n",
            "Epoch 42/70\n",
            "47/47 [==============================] - 1s 15ms/step - loss: 0.4335 - accuracy: 0.8233 - precision_3: 0.9200 - recall_3: 0.7082 - auc_3: 0.8598 - val_loss: 0.3942 - val_accuracy: 0.8445 - val_precision_3: 0.9567 - val_recall_3: 0.7215 - val_auc_3: 0.8784\n",
            "Epoch 43/70\n",
            "47/47 [==============================] - 1s 16ms/step - loss: 0.4356 - accuracy: 0.8251 - precision_3: 0.9242 - recall_3: 0.7084 - auc_3: 0.8592 - val_loss: 0.3955 - val_accuracy: 0.8448 - val_precision_3: 0.9584 - val_recall_3: 0.7209 - val_auc_3: 0.8800\n",
            "Epoch 44/70\n",
            "47/47 [==============================] - 1s 16ms/step - loss: 0.4327 - accuracy: 0.8249 - precision_3: 0.9262 - recall_3: 0.7061 - auc_3: 0.8640 - val_loss: 0.3935 - val_accuracy: 0.8435 - val_precision_3: 0.9582 - val_recall_3: 0.7182 - val_auc_3: 0.8794\n",
            "Epoch 45/70\n",
            "47/47 [==============================] - 1s 15ms/step - loss: 0.4329 - accuracy: 0.8251 - precision_3: 0.9268 - recall_3: 0.7061 - auc_3: 0.8585 - val_loss: 0.3931 - val_accuracy: 0.8475 - val_precision_3: 0.9563 - val_recall_3: 0.7282 - val_auc_3: 0.8829\n",
            "Epoch 46/70\n",
            "47/47 [==============================] - 1s 17ms/step - loss: 0.4304 - accuracy: 0.8275 - precision_3: 0.9241 - recall_3: 0.7137 - auc_3: 0.8649 - val_loss: 0.3917 - val_accuracy: 0.8482 - val_precision_3: 0.9636 - val_recall_3: 0.7235 - val_auc_3: 0.8851\n",
            "Epoch 47/70\n",
            "47/47 [==============================] - 1s 12ms/step - loss: 0.4285 - accuracy: 0.8262 - precision_3: 0.9248 - recall_3: 0.7102 - auc_3: 0.8627 - val_loss: 0.3883 - val_accuracy: 0.8495 - val_precision_3: 0.9581 - val_recall_3: 0.7308 - val_auc_3: 0.8828\n",
            "Epoch 48/70\n",
            "47/47 [==============================] - 1s 11ms/step - loss: 0.4287 - accuracy: 0.8250 - precision_3: 0.9234 - recall_3: 0.7087 - auc_3: 0.8647 - val_loss: 0.3900 - val_accuracy: 0.8492 - val_precision_3: 0.9596 - val_recall_3: 0.7288 - val_auc_3: 0.8842\n",
            "Epoch 49/70\n",
            "47/47 [==============================] - 1s 12ms/step - loss: 0.4316 - accuracy: 0.8253 - precision_3: 0.9240 - recall_3: 0.7089 - auc_3: 0.8635 - val_loss: 0.3872 - val_accuracy: 0.8501 - val_precision_3: 0.9590 - val_recall_3: 0.7315 - val_auc_3: 0.8845\n",
            "Epoch 50/70\n",
            "47/47 [==============================] - 1s 11ms/step - loss: 0.4209 - accuracy: 0.8307 - precision_3: 0.9317 - recall_3: 0.7137 - auc_3: 0.8661 - val_loss: 0.3854 - val_accuracy: 0.8498 - val_precision_3: 0.9605 - val_recall_3: 0.7295 - val_auc_3: 0.8868\n",
            "Epoch 51/70\n",
            "47/47 [==============================] - 1s 11ms/step - loss: 0.4253 - accuracy: 0.8265 - precision_3: 0.9232 - recall_3: 0.7124 - auc_3: 0.8679 - val_loss: 0.3840 - val_accuracy: 0.8508 - val_precision_3: 0.9566 - val_recall_3: 0.7348 - val_auc_3: 0.8863\n",
            "Epoch 52/70\n",
            "47/47 [==============================] - 1s 11ms/step - loss: 0.4165 - accuracy: 0.8303 - precision_3: 0.9279 - recall_3: 0.7162 - auc_3: 0.8724 - val_loss: 0.3818 - val_accuracy: 0.8501 - val_precision_3: 0.9566 - val_recall_3: 0.7335 - val_auc_3: 0.8892\n",
            "Epoch 53/70\n",
            "47/47 [==============================] - 1s 11ms/step - loss: 0.4188 - accuracy: 0.8326 - precision_3: 0.9289 - recall_3: 0.7204 - auc_3: 0.8698 - val_loss: 0.3818 - val_accuracy: 0.8511 - val_precision_3: 0.9591 - val_recall_3: 0.7335 - val_auc_3: 0.8900\n",
            "Epoch 54/70\n",
            "47/47 [==============================] - 1s 12ms/step - loss: 0.4217 - accuracy: 0.8315 - precision_3: 0.9247 - recall_3: 0.7219 - auc_3: 0.8695 - val_loss: 0.3797 - val_accuracy: 0.8515 - val_precision_3: 0.9575 - val_recall_3: 0.7355 - val_auc_3: 0.8904\n",
            "Epoch 55/70\n",
            "47/47 [==============================] - 1s 11ms/step - loss: 0.4139 - accuracy: 0.8320 - precision_3: 0.9224 - recall_3: 0.7249 - auc_3: 0.8726 - val_loss: 0.3788 - val_accuracy: 0.8518 - val_precision_3: 0.9552 - val_recall_3: 0.7382 - val_auc_3: 0.8921\n",
            "Epoch 56/70\n",
            "47/47 [==============================] - 1s 11ms/step - loss: 0.4208 - accuracy: 0.8314 - precision_3: 0.9276 - recall_3: 0.7189 - auc_3: 0.8702 - val_loss: 0.3773 - val_accuracy: 0.8515 - val_precision_3: 0.9607 - val_recall_3: 0.7328 - val_auc_3: 0.8957\n",
            "Epoch 57/70\n",
            "47/47 [==============================] - 1s 12ms/step - loss: 0.4190 - accuracy: 0.8314 - precision_3: 0.9289 - recall_3: 0.7177 - auc_3: 0.8703 - val_loss: 0.3792 - val_accuracy: 0.8518 - val_precision_3: 0.9567 - val_recall_3: 0.7368 - val_auc_3: 0.8963\n",
            "Epoch 58/70\n",
            "47/47 [==============================] - 1s 11ms/step - loss: 0.4156 - accuracy: 0.8342 - precision_3: 0.9303 - recall_3: 0.7226 - auc_3: 0.8726 - val_loss: 0.3773 - val_accuracy: 0.8511 - val_precision_3: 0.9607 - val_recall_3: 0.7322 - val_auc_3: 0.8990\n",
            "Epoch 59/70\n",
            "47/47 [==============================] - 1s 12ms/step - loss: 0.4157 - accuracy: 0.8336 - precision_3: 0.9275 - recall_3: 0.7239 - auc_3: 0.8738 - val_loss: 0.3729 - val_accuracy: 0.8535 - val_precision_3: 0.9609 - val_recall_3: 0.7368 - val_auc_3: 0.8979\n",
            "Epoch 60/70\n",
            "47/47 [==============================] - 1s 12ms/step - loss: 0.4206 - accuracy: 0.8328 - precision_3: 0.9260 - recall_3: 0.7234 - auc_3: 0.8689 - val_loss: 0.3719 - val_accuracy: 0.8531 - val_precision_3: 0.9569 - val_recall_3: 0.7395 - val_auc_3: 0.8961\n",
            "Epoch 61/70\n",
            "47/47 [==============================] - 1s 11ms/step - loss: 0.4138 - accuracy: 0.8340 - precision_3: 0.9288 - recall_3: 0.7236 - auc_3: 0.8764 - val_loss: 0.3718 - val_accuracy: 0.8525 - val_precision_3: 0.9616 - val_recall_3: 0.7342 - val_auc_3: 0.9002\n",
            "Epoch 62/70\n",
            "47/47 [==============================] - 1s 11ms/step - loss: 0.4139 - accuracy: 0.8351 - precision_3: 0.9243 - recall_3: 0.7301 - auc_3: 0.8740 - val_loss: 0.3728 - val_accuracy: 0.8515 - val_precision_3: 0.9567 - val_recall_3: 0.7362 - val_auc_3: 0.8972\n",
            "Epoch 63/70\n",
            "47/47 [==============================] - 0s 10ms/step - loss: 0.4115 - accuracy: 0.8353 - precision_3: 0.9296 - recall_3: 0.7256 - auc_3: 0.8763 - val_loss: 0.3733 - val_accuracy: 0.8525 - val_precision_3: 0.9545 - val_recall_3: 0.7402 - val_auc_3: 0.8978\n",
            "Epoch 64/70\n",
            "47/47 [==============================] - 1s 11ms/step - loss: 0.4116 - accuracy: 0.8365 - precision_3: 0.9324 - recall_3: 0.7257 - auc_3: 0.8774 - val_loss: 0.3715 - val_accuracy: 0.8525 - val_precision_3: 0.9592 - val_recall_3: 0.7362 - val_auc_3: 0.8977\n",
            "Epoch 65/70\n",
            "47/47 [==============================] - 1s 11ms/step - loss: 0.4112 - accuracy: 0.8335 - precision_3: 0.9271 - recall_3: 0.7241 - auc_3: 0.8778 - val_loss: 0.3700 - val_accuracy: 0.8541 - val_precision_3: 0.9594 - val_recall_3: 0.7395 - val_auc_3: 0.9013\n",
            "Epoch 66/70\n",
            "47/47 [==============================] - 1s 16ms/step - loss: 0.4062 - accuracy: 0.8351 - precision_3: 0.9312 - recall_3: 0.7237 - auc_3: 0.8809 - val_loss: 0.3654 - val_accuracy: 0.8538 - val_precision_3: 0.9601 - val_recall_3: 0.7382 - val_auc_3: 0.9072\n",
            "Epoch 67/70\n",
            "47/47 [==============================] - 1s 15ms/step - loss: 0.3998 - accuracy: 0.8391 - precision_3: 0.9299 - recall_3: 0.7336 - auc_3: 0.8850 - val_loss: 0.3669 - val_accuracy: 0.8555 - val_precision_3: 0.9611 - val_recall_3: 0.7408 - val_auc_3: 0.9052\n",
            "Epoch 68/70\n",
            "47/47 [==============================] - 1s 16ms/step - loss: 0.4050 - accuracy: 0.8403 - precision_3: 0.9316 - recall_3: 0.7346 - auc_3: 0.8811 - val_loss: 0.3634 - val_accuracy: 0.8541 - val_precision_3: 0.9586 - val_recall_3: 0.7402 - val_auc_3: 0.9035\n",
            "Epoch 69/70\n",
            "47/47 [==============================] - 1s 16ms/step - loss: 0.4066 - accuracy: 0.8343 - precision_3: 0.9305 - recall_3: 0.7226 - auc_3: 0.8840 - val_loss: 0.3657 - val_accuracy: 0.8541 - val_precision_3: 0.9562 - val_recall_3: 0.7422 - val_auc_3: 0.9038\n",
            "Epoch 70/70\n",
            "47/47 [==============================] - 1s 16ms/step - loss: 0.4034 - accuracy: 0.8373 - precision_3: 0.9303 - recall_3: 0.7292 - auc_3: 0.8829 - val_loss: 0.3650 - val_accuracy: 0.8545 - val_precision_3: 0.9594 - val_recall_3: 0.7402 - val_auc_3: 0.9070\n"
          ]
        },
        {
          "data": {
            "image/png": "[encoded data removed]",
            "text/plain": [
              "<Figure size 640x480 with 1 Axes>"
            ]
          },
          "metadata": {},
          "output_type": "display_data"
        },
        {
          "data": {
            "image/png": "[encoded data removed]",
            "text/plain": [
              "<Figure size 640x480 with 1 Axes>"
            ]
          },
          "metadata": {},
          "output_type": "display_data"
        }
      ],
      "source": [
        "epochs = 70\n",
        "CNN = Sequential()\n",
        "CNN.add(Conv1D(32, 2, activation='relu', input_shape = X_train_reshaped[0].shape))\n",
        "CNN.add(BatchNormalization())\n",
        "CNN.add(MaxPool1D(2))\n",
        "CNN.add(Dropout(0.2))\n",
        "\n",
        "CNN.add(Conv1D(64, 2, activation='relu'))\n",
        "CNN.add(BatchNormalization())\n",
        "CNN.add(MaxPool1D(2))\n",
        "CNN.add(Dropout(0.7))\n",
        "\n",
        "CNN.add(Flatten())\n",
        "CNN.add(Dense(64, activation='relu'))\n",
        "CNN.add(Dropout(0.7\n",
        "                ))\n",
        "\n",
        "CNN.add(Dense(1, activation='sigmoid'))\n",
        "\n",
        "CNN.compile(optimizer=Adam(), loss = 'binary_crossentropy', metrics=['accuracy',Precision(), Recall(), AUC()])\n",
        "history = CNN.fit(X_train, y_train, epochs=epochs, batch_size=256 , validation_data=(X_test, y_test), verbose=1)\n",
        "plot_learningCurve(history, epochs)"
      ]
    }
  ],
  "metadata": {
    "colab": {
      "provenance": []
    },
    "kernelspec": {
      "display_name": "Python 3",
      "name": "python3"
    },
    "language_info": {
      "name": "python"
    }
  },
  "nbformat": 4,
  "nbformat_minor": 0
}
